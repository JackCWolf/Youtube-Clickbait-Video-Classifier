{
 "cells": [
  {
   "cell_type": "code",
   "execution_count": 1,
   "id": "e47ca872",
   "metadata": {},
   "outputs": [],
   "source": [
    "# import necessary libraries \n",
    "\n",
    "import numpy as np\n",
    "import pandas as pd\n",
    "import matplotlib.pyplot as plt\n",
    "import tensorflow as tf\n",
    "from tensorflow import keras\n",
    "from keras.models import Sequential\n",
    "from keras.models import Model\n",
    "from tensorflow.keras.applications import VGG19\n",
    "from keras.layers import Convolution2D, Dense, Input, Flatten, Dropout, MaxPooling2D, BatchNormalization, GlobalAveragePooling2D, Concatenate\n",
    "from keras.callbacks import ModelCheckpoint, LearningRateScheduler, EarlyStopping, ReduceLROnPlateau, TensorBoard\n",
    "from keras import optimizers, losses, activations, models\n",
    "from keras.regularizers import L2\n",
    "import keras.backend as K\n",
    "from tensorflow.keras.utils import image_dataset_from_directory\n",
    "from sklearn.pipeline import Pipeline\n",
    "import xgboost as xgb\n",
    "from sklearn.model_selection import cross_val_score\n",
    "import optuna\n",
    "from sklearn.compose import ColumnTransformer\n",
    "from sklearn.feature_extraction.text import TfidfVectorizer\n",
    "import os\n",
    "import shutil\n",
    "import math"
   ]
  },
  {
   "cell_type": "code",
   "execution_count": 2,
   "id": "92220fb4",
   "metadata": {},
   "outputs": [],
   "source": [
    "# Keras removed it's f1 score for some reason\n",
    "\n",
    "def get_f1(y_true, y_pred): #taken from old keras source code\n",
    "    true_positives = K.sum(K.round(K.clip(y_true * y_pred, 0, 1)))\n",
    "    possible_positives = K.sum(K.round(K.clip(y_true, 0, 1)))\n",
    "    predicted_positives = K.sum(K.round(K.clip(y_pred, 0, 1)))\n",
    "    precision = true_positives / (predicted_positives + K.epsilon())\n",
    "    recall = true_positives / (possible_positives + K.epsilon())\n",
    "    f1_val = 2*(precision*recall)/(precision+recall+K.epsilon())\n",
    "    return f1_val"
   ]
  },
  {
   "cell_type": "code",
   "execution_count": 93,
   "id": "6b7fd838",
   "metadata": {},
   "outputs": [
    {
     "name": "stdout",
     "output_type": "stream",
     "text": [
      "Model: \"model\"\n",
      "_________________________________________________________________\n",
      " Layer (type)                Output Shape              Param #   \n",
      "=================================================================\n",
      " input_29 (InputLayer)       [(None, 128, 128, 3)]     0         \n",
      "                                                                 \n",
      " block1_conv1 (Conv2D)       (None, 128, 128, 64)      1792      \n",
      "                                                                 \n",
      " block1_conv2 (Conv2D)       (None, 128, 128, 64)      36928     \n",
      "                                                                 \n",
      " block1_pool (MaxPooling2D)  (None, 64, 64, 64)        0         \n",
      "                                                                 \n",
      " block2_conv1 (Conv2D)       (None, 64, 64, 128)       73856     \n",
      "                                                                 \n",
      " block2_conv2 (Conv2D)       (None, 64, 64, 128)       147584    \n",
      "                                                                 \n",
      " block2_pool (MaxPooling2D)  (None, 32, 32, 128)       0         \n",
      "                                                                 \n",
      " block3_conv1 (Conv2D)       (None, 32, 32, 256)       295168    \n",
      "                                                                 \n",
      " block3_conv2 (Conv2D)       (None, 32, 32, 256)       590080    \n",
      "                                                                 \n",
      " block3_conv3 (Conv2D)       (None, 32, 32, 256)       590080    \n",
      "                                                                 \n",
      " block3_conv4 (Conv2D)       (None, 32, 32, 256)       590080    \n",
      "                                                                 \n",
      " block3_pool (MaxPooling2D)  (None, 16, 16, 256)       0         \n",
      "                                                                 \n",
      " block4_conv1 (Conv2D)       (None, 16, 16, 512)       1180160   \n",
      "                                                                 \n",
      " block4_conv2 (Conv2D)       (None, 16, 16, 512)       2359808   \n",
      "                                                                 \n",
      " block4_conv3 (Conv2D)       (None, 16, 16, 512)       2359808   \n",
      "                                                                 \n",
      " block4_conv4 (Conv2D)       (None, 16, 16, 512)       2359808   \n",
      "                                                                 \n",
      " block4_pool (MaxPooling2D)  (None, 8, 8, 512)         0         \n",
      "                                                                 \n",
      " block5_conv1 (Conv2D)       (None, 8, 8, 512)         2359808   \n",
      "                                                                 \n",
      " block5_conv2 (Conv2D)       (None, 8, 8, 512)         2359808   \n",
      "                                                                 \n",
      " block5_conv3 (Conv2D)       (None, 8, 8, 512)         2359808   \n",
      "                                                                 \n",
      " block5_conv4 (Conv2D)       (None, 8, 8, 512)         2359808   \n",
      "                                                                 \n",
      " block5_pool (MaxPooling2D)  (None, 4, 4, 512)         0         \n",
      "                                                                 \n",
      " global_average_pooling2d_28  (None, 512)              0         \n",
      "  (GlobalAveragePooling2D)                                       \n",
      "                                                                 \n",
      " dropout_56 (Dropout)        (None, 512)               0         \n",
      "                                                                 \n",
      " dense_56 (Dense)            (None, 64)                32832     \n",
      "                                                                 \n",
      " dropout_57 (Dropout)        (None, 64)                0         \n",
      "                                                                 \n",
      " dense_57 (Dense)            (None, 1)                 65        \n",
      "                                                                 \n",
      "=================================================================\n",
      "Total params: 20,057,281\n",
      "Trainable params: 32,897\n",
      "Non-trainable params: 20,024,384\n",
      "_________________________________________________________________\n"
     ]
    }
   ],
   "source": [
    "#Import VGG19\n",
    "new_input = Input(shape=(128, 128, 3))\n",
    "base_model = VGG19(include_top=False, input_tensor=new_input,weights='imagenet')\n",
    "\n",
    "x = base_model.output\n",
    "x = GlobalAveragePooling2D()(x)\n",
    "# let's add a fully-connected layer\n",
    "x = Dropout(0.2)(x)\n",
    "x = Dense(64, activation='relu')(x)\n",
    "x = Dropout(0.4)(x)\n",
    "# and a logistic layer -- let's say we have 2 classes\n",
    "predictions = Dense(1, activation='sigmoid')(x)\n",
    "\n",
    "\n",
    "model = Model(inputs=base_model.input, outputs=predictions)\n",
    "\n",
    "# first: train only the top layers (which were randomly initialized)\n",
    "# i.e. freeze all convolutional InceptionV3 layers\n",
    "for layer in base_model.layers:\n",
    "    layer.trainable = False\n",
    "\n",
    "# compile the model (should be done *after* setting layers to non-trainable)\n",
    "model.compile(optimizer=keras.optimizers.Adam(),\n",
    "              loss='binary_crossentropy',\n",
    "              metrics=[get_f1])\n",
    "model.summary()"
   ]
  },
  {
   "cell_type": "code",
   "execution_count": 12,
   "id": "e0866c3e",
   "metadata": {},
   "outputs": [
    {
     "name": "stdout",
     "output_type": "stream",
     "text": [
      "Found 788 files belonging to 2 classes.\n",
      "Using 631 files for training.\n",
      "Found 788 files belonging to 2 classes.\n",
      "Using 157 files for validation.\n"
     ]
    }
   ],
   "source": [
    "# Create the datasets\n",
    "trains_ds=image_dataset_from_directory(\n",
    "    '..\\\\data\\\\interim\\\\thumbnails\\\\labeled\\\\',\n",
    "    labels='inferred',\n",
    "    label_mode='binary',\n",
    "    color_mode='rgb',\n",
    "    batch_size=32,\n",
    "    image_size=(128, 128),\n",
    "    shuffle=True,\n",
    "    seed=42069,\n",
    "    validation_split=0.2,\n",
    "    subset='training',\n",
    "    interpolation='bilinear',\n",
    "    follow_links=False,\n",
    "    crop_to_aspect_ratio=False,\n",
    ")\n",
    "valid_ds=image_dataset_from_directory(\n",
    "    '..\\\\data\\\\interim\\\\thumbnails\\\\labeled\\\\',\n",
    "    labels='inferred',\n",
    "    label_mode='binary',\n",
    "    color_mode='rgb',\n",
    "    batch_size=32,\n",
    "    image_size=(128, 128),\n",
    "    shuffle=True,\n",
    "    seed=42069,\n",
    "    validation_split=0.2,\n",
    "    subset='validation',\n",
    "    interpolation='bilinear',\n",
    "    follow_links=False,\n",
    "    crop_to_aspect_ratio=False,\n",
    ")"
   ]
  },
  {
   "cell_type": "code",
   "execution_count": 134,
   "id": "afadbf36",
   "metadata": {},
   "outputs": [
    {
     "name": "stdout",
     "output_type": "stream",
     "text": [
      "Epoch 1/5\n",
      "20/20 [==============================] - 28s 1s/step - loss: 2.9179 - get_f1: 0.6516 - val_loss: 1.2184 - val_get_f1: 0.7789\n",
      "Epoch 2/5\n",
      "20/20 [==============================] - 28s 1s/step - loss: 1.8156 - get_f1: 0.7335 - val_loss: 0.9719 - val_get_f1: 0.7197\n",
      "Epoch 3/5\n",
      "20/20 [==============================] - 25s 1s/step - loss: 1.1014 - get_f1: 0.7403 - val_loss: 0.7410 - val_get_f1: 0.7905\n",
      "Epoch 4/5\n",
      "20/20 [==============================] - 30s 2s/step - loss: 0.9065 - get_f1: 0.7415 - val_loss: 0.6786 - val_get_f1: 0.7906\n",
      "Epoch 5/5\n",
      "20/20 [==============================] - 27s 1s/step - loss: 0.6714 - get_f1: 0.7756 - val_loss: 0.6603 - val_get_f1: 0.8073\n"
     ]
    }
   ],
   "source": [
    "# Finally, fit the model!\n",
    "history=model.fit(trains_ds, epochs=5, validation_data=valid_ds)"
   ]
  },
  {
   "cell_type": "code",
   "execution_count": 18,
   "id": "cdc9b4b8",
   "metadata": {},
   "outputs": [
    {
     "data": {
      "image/png": "[encoded data removed]",
      "text/plain": [
       "<Figure size 576x576 with 2 Axes>"
      ]
     },
     "metadata": {
      "needs_background": "light"
     },
     "output_type": "display_data"
    }
   ],
   "source": [
    "# How does the model do over the eopchs?\n",
    "# This will be our baseline to see if we can improve on this\n",
    "f1 = history.history['get_f1']\n",
    "val_f1 = history.history['val_get_f1']\n",
    "\n",
    "loss = history.history['loss']\n",
    "val_loss = history.history['val_loss']\n",
    "\n",
    "plt.figure(figsize=(8, 8))\n",
    "plt.subplot(2, 1, 1)\n",
    "plt.plot(acc, label='Training f1')\n",
    "plt.plot(val_acc, label='Validation f1')\n",
    "plt.legend(loc='lower right')\n",
    "plt.ylabel('f1')\n",
    "plt.ylim([min(plt.ylim()),1])\n",
    "plt.title('Training and Validation f1')\n",
    "\n",
    "plt.subplot(2, 1, 2)\n",
    "plt.plot(loss, label='Training Loss')\n",
    "plt.plot(val_loss, label='Validation Loss')\n",
    "plt.legend(loc='upper right')\n",
    "plt.ylabel('Cross Entropy')\n",
    "plt.ylim([0,2.0])\n",
    "plt.title('Training and Validation Loss')\n",
    "plt.xlabel('epoch')\n",
    "plt.show()"
   ]
  },
  {
   "cell_type": "code",
   "execution_count": 92,
   "id": "0b89c723",
   "metadata": {},
   "outputs": [
    {
     "ename": "NameError",
     "evalue": "name 'base_model' is not defined",
     "output_type": "error",
     "traceback": [
      "\u001b[1;31m---------------------------------------------------------------------------\u001b[0m",
      "\u001b[1;31mNameError\u001b[0m                                 Traceback (most recent call last)",
      "Input \u001b[1;32mIn [92]\u001b[0m, in \u001b[0;36m<cell line: 2>\u001b[1;34m()\u001b[0m\n\u001b[0;32m      1\u001b[0m \u001b[38;5;66;03m# Now we try to fine tune the model\u001b[39;00m\n\u001b[1;32m----> 2\u001b[0m \u001b[43mbase_model\u001b[49m\u001b[38;5;241m.\u001b[39mtrainable \u001b[38;5;241m=\u001b[39m \u001b[38;5;28;01mTrue\u001b[39;00m\n\u001b[0;32m      4\u001b[0m \u001b[38;5;66;03m# Let's take a look to see how many layers are in the base model\u001b[39;00m\n\u001b[0;32m      5\u001b[0m \u001b[38;5;28mprint\u001b[39m(\u001b[38;5;124m\"\u001b[39m\u001b[38;5;124mNumber of layers in the base model: \u001b[39m\u001b[38;5;124m\"\u001b[39m, \u001b[38;5;28mlen\u001b[39m(base_model\u001b[38;5;241m.\u001b[39mlayers))\n",
      "\u001b[1;31mNameError\u001b[0m: name 'base_model' is not defined"
     ]
    }
   ],
   "source": [
    "# Now we try to fine tune the model\n",
    "base_model.trainable = True\n",
    "\n",
    "# Let's take a look to see how many layers are in the base model\n",
    "print(\"Number of layers in the base model: \", len(base_model.layers))\n",
    "\n",
    "# Fine-tune from this layer onwards\n",
    "fine_tune_at = 18\n",
    "\n",
    "# Freeze all the layers before the `fine_tune_at` layer\n",
    "for layer in base_model.layers[:fine_tune_at]:\n",
    "  layer.trainable = False\n",
    "\n",
    "model.compile(optimizer=keras.optimizers.Adam(learning_rate=0.00001),\n",
    "              loss=keras.losses.BinaryCrossentropy(from_logits=False),\n",
    "              metrics=[get_f1])\n",
    "\n",
    "model.summary()"
   ]
  },
  {
   "cell_type": "code",
   "execution_count": 17,
   "id": "c69fcec7",
   "metadata": {},
   "outputs": [
    {
     "name": "stdout",
     "output_type": "stream",
     "text": [
      "Epoch 15/24\n",
      "20/20 [==============================] - 40s 2s/step - loss: 0.3295 - get_f1: 0.8987 - val_loss: 0.6488 - val_get_f1: 0.8149\n",
      "Epoch 16/24\n",
      "20/20 [==============================] - 32s 2s/step - loss: 0.2936 - get_f1: 0.8946 - val_loss: 0.6751 - val_get_f1: 0.8095\n",
      "Epoch 17/24\n",
      "20/20 [==============================] - 32s 2s/step - loss: 0.2819 - get_f1: 0.9100 - val_loss: 0.6714 - val_get_f1: 0.8159\n",
      "Epoch 18/24\n",
      "20/20 [==============================] - 32s 2s/step - loss: 0.2542 - get_f1: 0.9144 - val_loss: 0.6867 - val_get_f1: 0.8143\n",
      "Epoch 19/24\n",
      "20/20 [==============================] - 36s 2s/step - loss: 0.2690 - get_f1: 0.9209 - val_loss: 0.7076 - val_get_f1: 0.8037\n",
      "Epoch 20/24\n",
      "20/20 [==============================] - 36s 2s/step - loss: 0.1817 - get_f1: 0.9459 - val_loss: 0.7288 - val_get_f1: 0.8133\n",
      "Epoch 21/24\n",
      "20/20 [==============================] - 34s 2s/step - loss: 0.2021 - get_f1: 0.9345 - val_loss: 0.7314 - val_get_f1: 0.8060\n",
      "Epoch 22/24\n",
      "20/20 [==============================] - 36s 2s/step - loss: 0.1782 - get_f1: 0.9529 - val_loss: 0.7609 - val_get_f1: 0.8100\n",
      "Epoch 23/24\n",
      "20/20 [==============================] - 34s 2s/step - loss: 0.1586 - get_f1: 0.9558 - val_loss: 0.7918 - val_get_f1: 0.8124\n",
      "Epoch 24/24\n",
      "20/20 [==============================] - 42s 2s/step - loss: 0.1529 - get_f1: 0.9536 - val_loss: 0.8437 - val_get_f1: 0.7857\n"
     ]
    }
   ],
   "source": [
    "history_fine = model.fit(trains_ds, epochs=24,initial_epoch=history.epoch[14],validation_data=valid_ds)"
   ]
  },
  {
   "cell_type": "code",
   "execution_count": 19,
   "id": "efbf3b4c",
   "metadata": {},
   "outputs": [],
   "source": [
    "f1 += history_fine.history['get_f1']\n",
    "val_f1 += history_fine.history['val_get_f1']\n",
    "\n",
    "loss += history_fine.history['loss']\n",
    "val_loss += history_fine.history['val_loss']"
   ]
  },
  {
   "cell_type": "code",
   "execution_count": 25,
   "id": "8d7b9312",
   "metadata": {},
   "outputs": [
    {
     "data": {
      "image/png": "[encoded data removed]",
      "text/plain": [
       "<Figure size 576x576 with 2 Axes>"
      ]
     },
     "metadata": {
      "needs_background": "light"
     },
     "output_type": "display_data"
    }
   ],
   "source": [
    "plt.figure(figsize=(8, 8))\n",
    "plt.subplot(2, 1, 1)\n",
    "plt.plot(f1, label='Training f1')\n",
    "plt.plot(val_f1, label='Validation f1')\n",
    "plt.ylim([0.6, 1])\n",
    "plt.plot([14-1,14-1],\n",
    "          plt.ylim(), label='Start Fine Tuning')\n",
    "plt.legend(loc='lower right')\n",
    "plt.title('Training and Validation f1')\n",
    "\n",
    "plt.subplot(2, 1, 2)\n",
    "plt.plot(loss, label='Training Loss')\n",
    "plt.plot(val_loss, label='Validation Loss')\n",
    "plt.ylim([0, 1.0])\n",
    "plt.plot([14-1,14-1],\n",
    "         plt.ylim(), label='Start Fine Tuning')\n",
    "plt.legend(loc='upper right')\n",
    "plt.title('Training and Validation Loss')\n",
    "plt.xlabel('epoch')\n",
    "plt.show()"
   ]
  },
  {
   "cell_type": "markdown",
   "id": "31cd17cc",
   "metadata": {},
   "source": [
    "So it seems that fine tuning the model causes overfitting!"
   ]
  },
  {
   "cell_type": "markdown",
   "id": "674975ac",
   "metadata": {},
   "source": [
    "With this as our base line we will try to develop new labels for all of our data to expand our dataset. To do this, we will try to develop a model on the data that is present for all data points (the title, description, comments on the video). "
   ]
  },
  {
   "cell_type": "code",
   "execution_count": 79,
   "id": "0dba49d5",
   "metadata": {},
   "outputs": [],
   "source": [
    "# labels data \n",
    "\n",
    "# ID and labels\n",
    "labels=pd.read_csv(r'..\\data\\raw\\data_labels.csv')\n",
    "for col in labels:\n",
    "    #get dtype for column\n",
    "    dt = labels[col].dtype \n",
    "    #check if it is a number\n",
    "    if dt == int or dt == float:\n",
    "        labels[col].fillna(0,inplace=True)\n",
    "    else:\n",
    "        labels[col].fillna(\" \",inplace=True)\n",
    "# Other features\n",
    "\n",
    "labels_large=pd.read_csv(r'..\\data\\raw\\data_labels_large.csv',lineterminator='\\n')\n",
    "for col in labels_large:\n",
    "    #get dtype for column\n",
    "    dt = labels_large[col].dtype \n",
    "    #check if it is a number\n",
    "    if dt == int or dt == float:\n",
    "        labels_large[col].fillna(0,inplace=True)\n",
    "    else:\n",
    "        labels_large[col].fillna(\" \",inplace=True)\n",
    "        \n",
    "# Create a table with features and labels \n",
    "full_labels=pd.merge(labels,labels_large,how='left',on='ID')\n",
    "full_labels['label']=full_labels['label'].apply(lambda x: 1 if x=='clickbait' else 0)\n",
    "full_labels['comment'] = full_labels[['comment_0','comment_1', 'comment_2', 'comment_3', 'comment_4', 'comment_5', 'comment_6', 'comment_7', 'comment_8', 'comment_9']].agg(' '.join, axis=1)"
   ]
  },
  {
   "cell_type": "code",
   "execution_count": 82,
   "id": "941700b0",
   "metadata": {},
   "outputs": [],
   "source": [
    "def objective(trial):\n",
    "    \n",
    "    X=full_labels[['title_x','channel_label','description','comment','dislikeCount','favoriteCount','likeCount','viewCount']]\n",
    "    X.reset_index(drop=True, inplace=True)\n",
    "    y=full_labels['label']\n",
    "    \n",
    "    preprocessor = ColumnTransformer(transformers = [('TFIDIF_title', TfidfVectorizer(),'title_x'),\n",
    "                                                     ('TFIDIF_desc', TfidfVectorizer(),'description'),\n",
    "                                                     ('TFIDIF_comment', TfidfVectorizer(),'comment')])\n",
    "    \n",
    "    parameter = {\n",
    "      'max_depth':trial.suggest_int('max_depth', 3, 5), # show integer parameters between 3 and 5 for depth\n",
    "      'learning_rate':trial.suggest_float('learning_rate',0.05,0.6,log=True), # set a log distribution between 0.05 and 0.5 for learning rate\n",
    "      'colsample_bytree':trial.suggest_float('colsample_bytree',0.4,0.9), # set a uniformly distributed numbers between 0.4 and 0.9 for colsample_bytree\n",
    "      'subsample':trial.suggest_float('subsample',0.4,0.9),\n",
    "      \"gamma\":trial.suggest_float('gamma',0,1),\n",
    "      \"reg_lambda\": trial.suggest_int('reg_lambda',0,10),\n",
    "      \"scale_pos_weight\": trial.suggest_int('scale_pos_weight',0,10),\n",
    "      \"eta\":trial.suggest_float(\"eta\", 1e-8, 1.0,log=True),\n",
    "      \"min_child_weight\":trial.suggest_float('min_child_weight',1e-2, 1e2,log=True)\n",
    "    }\n",
    "    \n",
    "    pipeline = Pipeline([('preprocessor', preprocessor),\n",
    "    (\"classifier\", xgb.XGBClassifier(**parameter))\n",
    "    ])\n",
    "\n",
    "    return np.mean(cross_val_score(pipeline, X, y,scoring='f1',cv=10))\n"
   ]
  },
  {
   "cell_type": "code",
   "execution_count": 83,
   "id": "0205fff7",
   "metadata": {},
   "outputs": [
    {
     "name": "stderr",
     "output_type": "stream",
     "text": [
      "\u001b[32m[I 2022-09-30 20:00:48,196]\u001b[0m A new study created in memory with name: label_generator_tuning\u001b[0m\n",
      "\u001b[32m[I 2022-09-30 20:00:52,929]\u001b[0m Trial 0 finished with value: 0.5906206926990546 and parameters: {'max_depth': 4, 'learning_rate': 0.16811280407874185, 'colsample_bytree': 0.732424775389741, 'subsample': 0.7669231790020878, 'gamma': 0.9491796249916685, 'reg_lambda': 10, 'scale_pos_weight': 1, 'eta': 1.2772993008704756e-05, 'min_child_weight': 3.5019927257273133}. Best is trial 0 with value: 0.5906206926990546.\u001b[0m\n",
      "\u001b[32m[I 2022-09-30 20:00:58,454]\u001b[0m Trial 1 finished with value: 0.595659944752388 and parameters: {'max_depth': 4, 'learning_rate': 0.18674772483170174, 'colsample_bytree': 0.7845222246746948, 'subsample': 0.5864880628296104, 'gamma': 0.34333943961814617, 'reg_lambda': 2, 'scale_pos_weight': 4, 'eta': 0.000888294498985221, 'min_child_weight': 0.010089689211398394}. Best is trial 1 with value: 0.595659944752388.\u001b[0m\n",
      "\u001b[32m[I 2022-09-30 20:01:02,559]\u001b[0m Trial 2 finished with value: 0.31177034937056824 and parameters: {'max_depth': 4, 'learning_rate': 0.05438690370949033, 'colsample_bytree': 0.820439395215804, 'subsample': 0.42826139225569904, 'gamma': 0.5796537987911979, 'reg_lambda': 8, 'scale_pos_weight': 1, 'eta': 5.135013250569604e-06, 'min_child_weight': 24.47225589225123}. Best is trial 1 with value: 0.595659944752388.\u001b[0m\n",
      "\u001b[32m[I 2022-09-30 20:01:07,028]\u001b[0m Trial 3 finished with value: 0.6107645229423748 and parameters: {'max_depth': 4, 'learning_rate': 0.09976468970483131, 'colsample_bytree': 0.554597956060497, 'subsample': 0.7225250565764794, 'gamma': 0.11904139540341374, 'reg_lambda': 3, 'scale_pos_weight': 3, 'eta': 7.841519265534068e-05, 'min_child_weight': 1.210586146067453}. Best is trial 3 with value: 0.6107645229423748.\u001b[0m\n",
      "\u001b[32m[I 2022-09-30 20:01:11,806]\u001b[0m Trial 4 finished with value: 0.601944227733266 and parameters: {'max_depth': 4, 'learning_rate': 0.2284347457369549, 'colsample_bytree': 0.7312224624626041, 'subsample': 0.6496407693793647, 'gamma': 0.27571742828092916, 'reg_lambda': 5, 'scale_pos_weight': 7, 'eta': 0.009276014494548398, 'min_child_weight': 1.822804730641156}. Best is trial 3 with value: 0.6107645229423748.\u001b[0m\n",
      "\u001b[32m[I 2022-09-30 20:01:15,694]\u001b[0m Trial 5 finished with value: 0.0 and parameters: {'max_depth': 4, 'learning_rate': 0.07463059987884389, 'colsample_bytree': 0.7692232301673956, 'subsample': 0.6239893748308813, 'gamma': 0.7312998380369414, 'reg_lambda': 7, 'scale_pos_weight': 0, 'eta': 0.21218333209176887, 'min_child_weight': 0.4280819341455172}. Best is trial 3 with value: 0.6107645229423748.\u001b[0m\n",
      "\u001b[32m[I 2022-09-30 20:01:21,893]\u001b[0m Trial 6 finished with value: 0.596296279674249 and parameters: {'max_depth': 5, 'learning_rate': 0.2645409328131436, 'colsample_bytree': 0.8062131024267443, 'subsample': 0.7638663831414226, 'gamma': 0.875432107984152, 'reg_lambda': 2, 'scale_pos_weight': 10, 'eta': 3.54861259908422e-07, 'min_child_weight': 0.1271755304836909}. Best is trial 3 with value: 0.6107645229423748.\u001b[0m\n",
      "\u001b[32m[I 2022-09-30 20:01:26,334]\u001b[0m Trial 7 finished with value: 0.6323948504373653 and parameters: {'max_depth': 4, 'learning_rate': 0.06737451335180021, 'colsample_bytree': 0.5732236270365851, 'subsample': 0.6666255958169516, 'gamma': 0.7049751856987674, 'reg_lambda': 9, 'scale_pos_weight': 9, 'eta': 1.94068082631551e-07, 'min_child_weight': 2.567272300540811}. Best is trial 7 with value: 0.6323948504373653.\u001b[0m\n",
      "\u001b[32m[I 2022-09-30 20:01:30,203]\u001b[0m Trial 8 finished with value: 0.5678374159519877 and parameters: {'max_depth': 3, 'learning_rate': 0.5703269575128805, 'colsample_bytree': 0.6031677452116355, 'subsample': 0.6746995193668008, 'gamma': 0.8760664879928192, 'reg_lambda': 3, 'scale_pos_weight': 7, 'eta': 2.2551733777353552e-08, 'min_child_weight': 27.601134892948945}. Best is trial 7 with value: 0.6323948504373653.\u001b[0m\n",
      "\u001b[32m[I 2022-09-30 20:01:35,014]\u001b[0m Trial 9 finished with value: 0.6101491593349394 and parameters: {'max_depth': 3, 'learning_rate': 0.06808603774876434, 'colsample_bytree': 0.7412332359955592, 'subsample': 0.46071048650072577, 'gamma': 0.004714519819225549, 'reg_lambda': 3, 'scale_pos_weight': 4, 'eta': 1.5399041746115057e-06, 'min_child_weight': 0.02132377069278693}. Best is trial 7 with value: 0.6323948504373653.\u001b[0m\n",
      "\u001b[32m[I 2022-09-30 20:01:38,995]\u001b[0m Trial 10 finished with value: 0.6289300358920286 and parameters: {'max_depth': 5, 'learning_rate': 0.11478884176102885, 'colsample_bytree': 0.4019055111716645, 'subsample': 0.861460918106552, 'gamma': 0.5404729687274477, 'reg_lambda': 10, 'scale_pos_weight': 10, 'eta': 2.452861976753788e-08, 'min_child_weight': 9.087567540983418}. Best is trial 7 with value: 0.6323948504373653.\u001b[0m\n",
      "\u001b[32m[I 2022-09-30 20:01:43,045]\u001b[0m Trial 11 finished with value: 0.6301454410556093 and parameters: {'max_depth': 5, 'learning_rate': 0.11089353177660964, 'colsample_bytree': 0.4071152126409794, 'subsample': 0.8911384354516506, 'gamma': 0.5722329845245048, 'reg_lambda': 10, 'scale_pos_weight': 10, 'eta': 2.173483697914115e-08, 'min_child_weight': 8.567067963241445}. Best is trial 7 with value: 0.6323948504373653.\u001b[0m\n",
      "\u001b[32m[I 2022-09-30 20:01:46,372]\u001b[0m Trial 12 finished with value: 0.5452220957808486 and parameters: {'max_depth': 5, 'learning_rate': 0.11832922834341637, 'colsample_bytree': 0.4361165017780333, 'subsample': 0.5357860696966485, 'gamma': 0.6902302884437652, 'reg_lambda': 8, 'scale_pos_weight': 8, 'eta': 1.6287591045480158e-07, 'min_child_weight': 62.42993157511861}. Best is trial 7 with value: 0.6323948504373653.\u001b[0m\n",
      "\u001b[32m[I 2022-09-30 20:01:50,840]\u001b[0m Trial 13 finished with value: 0.6202402447835249 and parameters: {'max_depth': 5, 'learning_rate': 0.05129517724240662, 'colsample_bytree': 0.496748794596297, 'subsample': 0.8904044057235289, 'gamma': 0.3840467739528214, 'reg_lambda': 6, 'scale_pos_weight': 9, 'eta': 2.74352974153765e-08, 'min_child_weight': 7.110305263604235}. Best is trial 7 with value: 0.6323948504373653.\u001b[0m\n",
      "\u001b[32m[I 2022-09-30 20:01:55,579]\u001b[0m Trial 14 finished with value: 0.6443489106492817 and parameters: {'max_depth': 3, 'learning_rate': 0.08079001330616072, 'colsample_bytree': 0.6633167412554004, 'subsample': 0.8166625034690851, 'gamma': 0.7148267626318947, 'reg_lambda': 9, 'scale_pos_weight': 6, 'eta': 5.579525416884404e-07, 'min_child_weight': 0.37076790400554704}. Best is trial 14 with value: 0.6443489106492817.\u001b[0m\n",
      "\u001b[32m[I 2022-09-30 20:02:00,267]\u001b[0m Trial 15 finished with value: 0.6342580138858416 and parameters: {'max_depth': 3, 'learning_rate': 0.07589818213343555, 'colsample_bytree': 0.6624624459705918, 'subsample': 0.8049525321541602, 'gamma': 0.7358992367475712, 'reg_lambda': 8, 'scale_pos_weight': 6, 'eta': 0.00010145883118830626, 'min_child_weight': 0.29595028600108314}. Best is trial 14 with value: 0.6443489106492817.\u001b[0m\n",
      "\u001b[32m[I 2022-09-30 20:02:05,119]\u001b[0m Trial 16 finished with value: 0.63583306375689 and parameters: {'max_depth': 3, 'learning_rate': 0.08504565353095685, 'colsample_bytree': 0.6532196320239314, 'subsample': 0.8172501834045323, 'gamma': 0.8280809684147741, 'reg_lambda': 5, 'scale_pos_weight': 6, 'eta': 0.0004275548719196205, 'min_child_weight': 0.2318110315046593}. Best is trial 14 with value: 0.6443489106492817.\u001b[0m\n",
      "\u001b[32m[I 2022-09-30 20:02:09,767]\u001b[0m Trial 17 finished with value: 0.5730621281341627 and parameters: {'max_depth': 3, 'learning_rate': 0.4015606887613404, 'colsample_bytree': 0.6456258076619104, 'subsample': 0.8162240593840747, 'gamma': 0.9961045567491047, 'reg_lambda': 0, 'scale_pos_weight': 5, 'eta': 0.005771842046796911, 'min_child_weight': 0.06658569922411436}. Best is trial 14 with value: 0.6443489106492817.\u001b[0m\n",
      "\u001b[32m[I 2022-09-30 20:02:15,130]\u001b[0m Trial 18 finished with value: 0.6308945699225486 and parameters: {'max_depth': 3, 'learning_rate': 0.14411010506307315, 'colsample_bytree': 0.8926968350671278, 'subsample': 0.7210207148179099, 'gamma': 0.8313945941615538, 'reg_lambda': 5, 'scale_pos_weight': 6, 'eta': 0.0001732951467443008, 'min_child_weight': 0.430086509969413}. Best is trial 14 with value: 0.6443489106492817.\u001b[0m\n",
      "\u001b[32m[I 2022-09-30 20:02:19,972]\u001b[0m Trial 19 finished with value: 0.6330852421028603 and parameters: {'max_depth': 3, 'learning_rate': 0.09123324123596714, 'colsample_bytree': 0.6708225862202497, 'subsample': 0.82741753520455, 'gamma': 0.6355806725495018, 'reg_lambda': 5, 'scale_pos_weight': 3, 'eta': 0.052313300608158295, 'min_child_weight': 0.07653492953794472}. Best is trial 14 with value: 0.6443489106492817.\u001b[0m\n"
     ]
    },
    {
     "name": "stderr",
     "output_type": "stream",
     "text": [
      "\u001b[32m[I 2022-09-30 20:02:24,141]\u001b[0m Trial 20 finished with value: 0.63997886282821 and parameters: {'max_depth': 3, 'learning_rate': 0.14058405912354502, 'colsample_bytree': 0.5053889110815222, 'subsample': 0.7351240985034614, 'gamma': 0.8141622658203167, 'reg_lambda': 6, 'scale_pos_weight': 6, 'eta': 0.8783007293739126, 'min_child_weight': 0.20216410048017458}. Best is trial 14 with value: 0.6443489106492817.\u001b[0m\n",
      "\u001b[32m[I 2022-09-30 20:02:28,365]\u001b[0m Trial 21 finished with value: 0.6335467765270243 and parameters: {'max_depth': 3, 'learning_rate': 0.1397602478399226, 'colsample_bytree': 0.5140805305418176, 'subsample': 0.7635994126640859, 'gamma': 0.801454418645674, 'reg_lambda': 6, 'scale_pos_weight': 6, 'eta': 0.9983826001518757, 'min_child_weight': 0.16614258226754436}. Best is trial 14 with value: 0.6443489106492817.\u001b[0m\n",
      "\u001b[32m[I 2022-09-30 20:02:32,787]\u001b[0m Trial 22 finished with value: 0.6383557520989688 and parameters: {'max_depth': 3, 'learning_rate': 0.08549634917079178, 'colsample_bytree': 0.6078413522633771, 'subsample': 0.7159001327144217, 'gamma': 0.7919493335379417, 'reg_lambda': 6, 'scale_pos_weight': 5, 'eta': 0.002899372687567818, 'min_child_weight': 0.6799622320741862}. Best is trial 14 with value: 0.6443489106492817.\u001b[0m\n",
      "\u001b[32m[I 2022-09-30 20:02:36,851]\u001b[0m Trial 23 finished with value: 0.6301689873617822 and parameters: {'max_depth': 3, 'learning_rate': 0.1371791205835696, 'colsample_bytree': 0.4722333108276499, 'subsample': 0.7137970513915532, 'gamma': 0.4504539492399906, 'reg_lambda': 7, 'scale_pos_weight': 5, 'eta': 0.0035179485770338186, 'min_child_weight': 0.6641521366756621}. Best is trial 14 with value: 0.6443489106492817.\u001b[0m\n",
      "\u001b[32m[I 2022-09-30 20:02:41,299]\u001b[0m Trial 24 finished with value: 0.6314842513643322 and parameters: {'max_depth': 3, 'learning_rate': 0.20955359869452825, 'colsample_bytree': 0.5969517073999598, 'subsample': 0.5714819573674083, 'gamma': 0.9181428474035136, 'reg_lambda': 7, 'scale_pos_weight': 4, 'eta': 0.039945296749176455, 'min_child_weight': 0.040026397782027164}. Best is trial 14 with value: 0.6443489106492817.\u001b[0m\n",
      "\u001b[32m[I 2022-09-30 20:02:45,366]\u001b[0m Trial 25 finished with value: 0.5968199176519194 and parameters: {'max_depth': 3, 'learning_rate': 0.27662296976662104, 'colsample_bytree': 0.5411906486110484, 'subsample': 0.7004846392961218, 'gamma': 0.6309937598173249, 'reg_lambda': 9, 'scale_pos_weight': 7, 'eta': 0.6659908528321509, 'min_child_weight': 1.37369590462336}. Best is trial 14 with value: 0.6443489106492817.\u001b[0m\n",
      "\u001b[32m[I 2022-09-30 20:02:49,785]\u001b[0m Trial 26 finished with value: 0.6415684457795321 and parameters: {'max_depth': 3, 'learning_rate': 0.06179544424700615, 'colsample_bytree': 0.6080464013667553, 'subsample': 0.7613340873986856, 'gamma': 0.7527569885113155, 'reg_lambda': 4, 'scale_pos_weight': 3, 'eta': 2.0239651237842198e-05, 'min_child_weight': 0.5804647441488063}. Best is trial 14 with value: 0.6443489106492817.\u001b[0m\n",
      "\u001b[32m[I 2022-09-30 20:02:54,758]\u001b[0m Trial 27 finished with value: 0.6214741514791018 and parameters: {'max_depth': 3, 'learning_rate': 0.06579038119360064, 'colsample_bytree': 0.6980457178476183, 'subsample': 0.7781122276117033, 'gamma': 0.6515804074948289, 'reg_lambda': 4, 'scale_pos_weight': 2, 'eta': 7.009395928460336e-06, 'min_child_weight': 0.11204508679678589}. Best is trial 14 with value: 0.6443489106492817.\u001b[0m\n",
      "\u001b[32m[I 2022-09-30 20:02:58,833]\u001b[0m Trial 28 finished with value: 0.6577729672325274 and parameters: {'max_depth': 3, 'learning_rate': 0.06395573724168778, 'colsample_bytree': 0.45736516764820717, 'subsample': 0.8503751013548142, 'gamma': 0.46534961067779, 'reg_lambda': 0, 'scale_pos_weight': 3, 'eta': 3.001691241800253e-05, 'min_child_weight': 0.7822036017284868}. Best is trial 28 with value: 0.6577729672325274.\u001b[0m\n",
      "\u001b[32m[I 2022-09-30 20:03:02,929]\u001b[0m Trial 29 finished with value: 0.6341488764810435 and parameters: {'max_depth': 4, 'learning_rate': 0.05989204719366213, 'colsample_bytree': 0.4605281990429245, 'subsample': 0.8519582155175529, 'gamma': 0.4738461594817328, 'reg_lambda': 0, 'scale_pos_weight': 2, 'eta': 3.2276117983406594e-05, 'min_child_weight': 4.139436399574855}. Best is trial 28 with value: 0.6577729672325274.\u001b[0m\n",
      "\u001b[32m[I 2022-09-30 20:03:07,844]\u001b[0m Trial 30 finished with value: 0.6401160948454582 and parameters: {'max_depth': 3, 'learning_rate': 0.0577086245807727, 'colsample_bytree': 0.7072326258868016, 'subsample': 0.8553976179481072, 'gamma': 0.20859657196809028, 'reg_lambda': 1, 'scale_pos_weight': 3, 'eta': 2.399223777965556e-06, 'min_child_weight': 0.8415664253590773}. Best is trial 28 with value: 0.6577729672325274.\u001b[0m\n",
      "\u001b[32m[I 2022-09-30 20:03:12,576]\u001b[0m Trial 31 finished with value: 0.6523416008727368 and parameters: {'max_depth': 3, 'learning_rate': 0.05110401447585188, 'colsample_bytree': 0.6902357445059427, 'subsample': 0.8553294777612976, 'gamma': 0.2732825082320368, 'reg_lambda': 0, 'scale_pos_weight': 3, 'eta': 1.6582125099842377e-06, 'min_child_weight': 0.7392795242998675}. Best is trial 28 with value: 0.6577729672325274.\u001b[0m\n",
      "\u001b[32m[I 2022-09-30 20:03:17,075]\u001b[0m Trial 32 finished with value: 0.645145743144053 and parameters: {'max_depth': 3, 'learning_rate': 0.05182549819412182, 'colsample_bytree': 0.6355556068506529, 'subsample': 0.7774279221367474, 'gamma': 0.40623728428034966, 'reg_lambda': 1, 'scale_pos_weight': 2, 'eta': 2.4738716881333182e-05, 'min_child_weight': 0.5033206054669326}. Best is trial 28 with value: 0.6577729672325274.\u001b[0m\n",
      "\u001b[32m[I 2022-09-30 20:03:21,907]\u001b[0m Trial 33 finished with value: 0.5886133718830056 and parameters: {'max_depth': 3, 'learning_rate': 0.05385101679064788, 'colsample_bytree': 0.8594108360686228, 'subsample': 0.8988692648811473, 'gamma': 0.38436898249094137, 'reg_lambda': 1, 'scale_pos_weight': 1, 'eta': 8.803300559610669e-07, 'min_child_weight': 2.8631002067761577}. Best is trial 28 with value: 0.6577729672325274.\u001b[0m\n",
      "\u001b[32m[I 2022-09-30 20:03:26,946]\u001b[0m Trial 34 finished with value: 0.6318024805600102 and parameters: {'max_depth': 4, 'learning_rate': 0.05053637710443347, 'colsample_bytree': 0.6934173638629868, 'subsample': 0.7944640802838024, 'gamma': 0.27901056056056883, 'reg_lambda': 1, 'scale_pos_weight': 2, 'eta': 4.580816745630283e-06, 'min_child_weight': 1.2249107709430758}. Best is trial 28 with value: 0.6577729672325274.\u001b[0m\n",
      "\u001b[32m[I 2022-09-30 20:03:30,526]\u001b[0m Trial 35 finished with value: 0.0 and parameters: {'max_depth': 3, 'learning_rate': 0.07517246750926006, 'colsample_bytree': 0.6243701559352639, 'subsample': 0.8525737882560529, 'gamma': 0.16741333944858255, 'reg_lambda': 0, 'scale_pos_weight': 0, 'eta': 3.502649304236563e-05, 'min_child_weight': 0.3735015832798999}. Best is trial 28 with value: 0.6577729672325274.\u001b[0m\n",
      "\u001b[32m[I 2022-09-30 20:03:35,798]\u001b[0m Trial 36 finished with value: 0.5972815643176195 and parameters: {'max_depth': 4, 'learning_rate': 0.10261842565568942, 'colsample_bytree': 0.7550054379283349, 'subsample': 0.8295806025979114, 'gamma': 0.29493281097205964, 'reg_lambda': 2, 'scale_pos_weight': 1, 'eta': 6.986890283728994e-07, 'min_child_weight': 1.672384899360505}. Best is trial 28 with value: 0.6577729672325274.\u001b[0m\n",
      "\u001b[32m[I 2022-09-30 20:03:40,237]\u001b[0m Trial 37 finished with value: 0.6402823509262701 and parameters: {'max_depth': 4, 'learning_rate': 0.08058832616665412, 'colsample_bytree': 0.5692340498490168, 'subsample': 0.7886797786473286, 'gamma': 0.41092003744618416, 'reg_lambda': 1, 'scale_pos_weight': 4, 'eta': 8.120490132106473e-06, 'min_child_weight': 4.53606554620794}. Best is trial 28 with value: 0.6577729672325274.\u001b[0m\n",
      "\u001b[32m[I 2022-09-30 20:03:45,065]\u001b[0m Trial 38 finished with value: 0.6420680175938657 and parameters: {'max_depth': 3, 'learning_rate': 0.058671916985901434, 'colsample_bytree': 0.729951661190736, 'subsample': 0.8696914023389888, 'gamma': 0.518631084992953, 'reg_lambda': 0, 'scale_pos_weight': 2, 'eta': 8.955396024416741e-08, 'min_child_weight': 1.0299905571778352}. Best is trial 28 with value: 0.6577729672325274.\u001b[0m\n",
      "\u001b[32m[I 2022-09-30 20:03:50,632]\u001b[0m Trial 39 finished with value: 0.6384970379365154 and parameters: {'max_depth': 4, 'learning_rate': 0.06624249410762367, 'colsample_bytree': 0.7984783488851634, 'subsample': 0.7515048588235006, 'gamma': 0.22033120677012907, 'reg_lambda': 2, 'scale_pos_weight': 4, 'eta': 3.2001318827985296e-06, 'min_child_weight': 0.34196475633912476}. Best is trial 28 with value: 0.6577729672325274.\u001b[0m\n"
     ]
    },
    {
     "name": "stderr",
     "output_type": "stream",
     "text": [
      "\u001b[32m[I 2022-09-30 20:03:55,490]\u001b[0m Trial 40 finished with value: 0.5843017137334569 and parameters: {'max_depth': 3, 'learning_rate': 0.07152031283132974, 'colsample_bytree': 0.8430566831529365, 'subsample': 0.842708543645688, 'gamma': 0.32834899547770013, 'reg_lambda': 1, 'scale_pos_weight': 1, 'eta': 0.00033835104272459423, 'min_child_weight': 2.011159832275168}. Best is trial 28 with value: 0.6577729672325274.\u001b[0m\n",
      "\u001b[32m[I 2022-09-30 20:04:00,405]\u001b[0m Trial 41 finished with value: 0.619289222779357 and parameters: {'max_depth': 3, 'learning_rate': 0.05571991587739323, 'colsample_bytree': 0.7238080012380507, 'subsample': 0.8706371291693432, 'gamma': 0.475169922113359, 'reg_lambda': 0, 'scale_pos_weight': 2, 'eta': 9.414744248457536e-08, 'min_child_weight': 1.0140002942448507}. Best is trial 28 with value: 0.6577729672325274.\u001b[0m\n",
      "\u001b[32m[I 2022-09-30 20:04:05,487]\u001b[0m Trial 42 finished with value: 0.6398508851870804 and parameters: {'max_depth': 3, 'learning_rate': 0.058727398471579054, 'colsample_bytree': 0.7738791868230894, 'subsample': 0.8783281495296087, 'gamma': 0.5269622412143324, 'reg_lambda': 0, 'scale_pos_weight': 3, 'eta': 9.165771628628774e-08, 'min_child_weight': 0.49949619960991076}. Best is trial 28 with value: 0.6577729672325274.\u001b[0m\n",
      "\u001b[32m[I 2022-09-30 20:04:10,202]\u001b[0m Trial 43 finished with value: 0.6274438178407452 and parameters: {'max_depth': 3, 'learning_rate': 0.05093363728260586, 'colsample_bytree': 0.6868206967323807, 'subsample': 0.8338299233916401, 'gamma': 0.07658443277663463, 'reg_lambda': 0, 'scale_pos_weight': 2, 'eta': 4.919736151517534e-07, 'min_child_weight': 0.9735453305687369}. Best is trial 28 with value: 0.6577729672325274.\u001b[0m\n",
      "\u001b[32m[I 2022-09-30 20:04:14,025]\u001b[0m Trial 44 finished with value: 0.0 and parameters: {'max_depth': 3, 'learning_rate': 0.06250301070399938, 'colsample_bytree': 0.7246969940611971, 'subsample': 0.8035288410120868, 'gamma': 0.5920181200018124, 'reg_lambda': 2, 'scale_pos_weight': 0, 'eta': 1.3252761615705536e-06, 'min_child_weight': 2.208048738131465}. Best is trial 28 with value: 0.6577729672325274.\u001b[0m\n",
      "\u001b[32m[I 2022-09-30 20:04:18,780]\u001b[0m Trial 45 finished with value: 0.6391080547976925 and parameters: {'max_depth': 3, 'learning_rate': 0.09907326513139537, 'colsample_bytree': 0.6313669386860713, 'subsample': 0.8712070610329304, 'gamma': 0.4296293376187943, 'reg_lambda': 1, 'scale_pos_weight': 3, 'eta': 1.338465647904921e-05, 'min_child_weight': 0.12576286727417163}. Best is trial 28 with value: 0.6577729672325274.\u001b[0m\n",
      "\u001b[32m[I 2022-09-30 20:04:23,677]\u001b[0m Trial 46 finished with value: 0.6362031679609575 and parameters: {'max_depth': 3, 'learning_rate': 0.07575425969396571, 'colsample_bytree': 0.7553658010632739, 'subsample': 0.609877561026851, 'gamma': 0.3421732963568541, 'reg_lambda': 3, 'scale_pos_weight': 4, 'eta': 6.77870559731319e-08, 'min_child_weight': 0.24545240718429312}. Best is trial 28 with value: 0.6577729672325274.\u001b[0m\n",
      "\u001b[32m[I 2022-09-30 20:04:28,279]\u001b[0m Trial 47 finished with value: 0.6307698073379358 and parameters: {'max_depth': 4, 'learning_rate': 0.06917800023275382, 'colsample_bytree': 0.6779856256117401, 'subsample': 0.794438729959365, 'gamma': 0.5123732219835267, 'reg_lambda': 0, 'scale_pos_weight': 2, 'eta': 3.3788492375043273e-07, 'min_child_weight': 5.513711131316002}. Best is trial 28 with value: 0.6577729672325274.\u001b[0m\n",
      "\u001b[32m[I 2022-09-30 20:04:32,014]\u001b[0m Trial 48 finished with value: 0.6192816600241743 and parameters: {'max_depth': 3, 'learning_rate': 0.09228715136175575, 'colsample_bytree': 0.5294772102572591, 'subsample': 0.4631832960649109, 'gamma': 0.5695880987312327, 'reg_lambda': 1, 'scale_pos_weight': 3, 'eta': 4.7307830648492995e-05, 'min_child_weight': 13.268555058265909}. Best is trial 28 with value: 0.6577729672325274.\u001b[0m\n",
      "\u001b[32m[I 2022-09-30 20:04:36,446]\u001b[0m Trial 49 finished with value: 0.5718591620334158 and parameters: {'max_depth': 3, 'learning_rate': 0.16535781767039007, 'colsample_bytree': 0.7208086296512075, 'subsample': 0.6822026264475836, 'gamma': 0.23132189537832268, 'reg_lambda': 2, 'scale_pos_weight': 1, 'eta': 1.1665695041551235e-08, 'min_child_weight': 3.0836050391836896}. Best is trial 28 with value: 0.6577729672325274.\u001b[0m\n",
      "\u001b[32m[I 2022-09-30 20:04:41,062]\u001b[0m Trial 50 finished with value: 0.6200685494447852 and parameters: {'max_depth': 3, 'learning_rate': 0.05450614081481384, 'colsample_bytree': 0.6376949418824811, 'subsample': 0.8796338646821439, 'gamma': 0.3602980711879612, 'reg_lambda': 4, 'scale_pos_weight': 7, 'eta': 2.5716470016095027e-06, 'min_child_weight': 0.7391324343724722}. Best is trial 28 with value: 0.6577729672325274.\u001b[0m\n",
      "\u001b[32m[I 2022-09-30 20:04:45,593]\u001b[0m Trial 51 finished with value: 0.642387669558167 and parameters: {'max_depth': 3, 'learning_rate': 0.06175533673739702, 'colsample_bytree': 0.5808507386864444, 'subsample': 0.750544988048707, 'gamma': 0.7106361866020687, 'reg_lambda': 4, 'scale_pos_weight': 3, 'eta': 1.2149521582974866e-05, 'min_child_weight': 0.4305901483742208}. Best is trial 28 with value: 0.6577729672325274.\u001b[0m\n",
      "\u001b[32m[I 2022-09-30 20:04:50,098]\u001b[0m Trial 52 finished with value: 0.6465106040543513 and parameters: {'max_depth': 3, 'learning_rate': 0.06292097135314952, 'colsample_bytree': 0.5862821886584683, 'subsample': 0.7785860735629501, 'gamma': 0.5898815424959445, 'reg_lambda': 9, 'scale_pos_weight': 3, 'eta': 8.635325953787591e-05, 'min_child_weight': 0.4900429653949431}. Best is trial 28 with value: 0.6577729672325274.\u001b[0m\n",
      "\u001b[32m[I 2022-09-30 20:04:54,423]\u001b[0m Trial 53 finished with value: 0.6384467732568044 and parameters: {'max_depth': 3, 'learning_rate': 0.05037001871369285, 'colsample_bytree': 0.5740163246007055, 'subsample': 0.6518107362313345, 'gamma': 0.7231298722681817, 'reg_lambda': 10, 'scale_pos_weight': 4, 'eta': 9.383206796108257e-05, 'min_child_weight': 0.4498014927255717}. Best is trial 28 with value: 0.6577729672325274.\u001b[0m\n",
      "\u001b[32m[I 2022-09-30 20:04:58,942]\u001b[0m Trial 54 finished with value: 0.6304407442102252 and parameters: {'max_depth': 3, 'learning_rate': 0.07950986327222004, 'colsample_bytree': 0.5870123419723838, 'subsample': 0.7387351090235864, 'gamma': 0.6775723955526212, 'reg_lambda': 9, 'scale_pos_weight': 5, 'eta': 0.0007661606950629153, 'min_child_weight': 0.2905163279452422}. Best is trial 28 with value: 0.6577729672325274.\u001b[0m\n",
      "\u001b[32m[I 2022-09-30 20:05:03,438]\u001b[0m Trial 55 finished with value: 0.6379359655957916 and parameters: {'max_depth': 3, 'learning_rate': 0.06785672286431432, 'colsample_bytree': 0.5505479845914935, 'subsample': 0.7767821854111484, 'gamma': 0.5917426088107401, 'reg_lambda': 9, 'scale_pos_weight': 3, 'eta': 0.00017312390250826573, 'min_child_weight': 0.18716042798351096}. Best is trial 28 with value: 0.6577729672325274.\u001b[0m\n",
      "\u001b[32m[I 2022-09-30 20:05:08,118]\u001b[0m Trial 56 finished with value: 0.5816030612212633 and parameters: {'max_depth': 3, 'learning_rate': 0.5752538946417548, 'colsample_bytree': 0.6511004291379486, 'subsample': 0.8171963558980504, 'gamma': 0.7731354964850037, 'reg_lambda': 8, 'scale_pos_weight': 4, 'eta': 2.2144984083825964e-05, 'min_child_weight': 0.5058498182076264}. Best is trial 28 with value: 0.6577729672325274.\u001b[0m\n",
      "\u001b[32m[I 2022-09-30 20:05:12,774]\u001b[0m Trial 57 finished with value: 0.6354418507845927 and parameters: {'max_depth': 3, 'learning_rate': 0.06292007250974557, 'colsample_bytree': 0.6171673119670831, 'subsample': 0.7428128557248601, 'gamma': 0.6890926926812014, 'reg_lambda': 10, 'scale_pos_weight': 5, 'eta': 8.854949272058278e-06, 'min_child_weight': 0.08725424813751761}. Best is trial 28 with value: 0.6577729672325274.\u001b[0m\n",
      "\u001b[32m[I 2022-09-30 20:05:16,835]\u001b[0m Trial 58 finished with value: 0.6418665077120217 and parameters: {'max_depth': 3, 'learning_rate': 0.08569571372898084, 'colsample_bytree': 0.4279089557947102, 'subsample': 0.6946252003792266, 'gamma': 0.5539646765884536, 'reg_lambda': 8, 'scale_pos_weight': 3, 'eta': 7.074230477042246e-05, 'min_child_weight': 0.16043266842825624}. Best is trial 28 with value: 0.6577729672325274.\u001b[0m\n",
      "\u001b[32m[I 2022-09-30 20:05:21,124]\u001b[0m Trial 59 finished with value: 0.6393402819233576 and parameters: {'max_depth': 3, 'learning_rate': 0.12264025960472552, 'colsample_bytree': 0.47969979702600346, 'subsample': 0.7753761370943137, 'gamma': 0.8605511609824433, 'reg_lambda': 7, 'scale_pos_weight': 8, 'eta': 0.00018642314600353837, 'min_child_weight': 0.03721163630276885}. Best is trial 28 with value: 0.6577729672325274.\u001b[0m\n"
     ]
    },
    {
     "name": "stderr",
     "output_type": "stream",
     "text": [
      "\u001b[32m[I 2022-09-30 20:05:26,848]\u001b[0m Trial 60 finished with value: 0.647114284959261 and parameters: {'max_depth': 5, 'learning_rate': 0.07149903004893418, 'colsample_bytree': 0.661892624855612, 'subsample': 0.8141748045239008, 'gamma': 0.6175088800791795, 'reg_lambda': 4, 'scale_pos_weight': 5, 'eta': 0.001215452089330402, 'min_child_weight': 0.28778500036063875}. Best is trial 28 with value: 0.6577729672325274.\u001b[0m\n",
      "\u001b[32m[I 2022-09-30 20:05:32,529]\u001b[0m Trial 61 finished with value: 0.6378415159002231 and parameters: {'max_depth': 5, 'learning_rate': 0.06982239609901485, 'colsample_bytree': 0.6680517089531686, 'subsample': 0.8163133810734176, 'gamma': 0.6134681690530499, 'reg_lambda': 3, 'scale_pos_weight': 5, 'eta': 0.001179070217787786, 'min_child_weight': 0.282836428610106}. Best is trial 28 with value: 0.6577729672325274.\u001b[0m\n",
      "\u001b[32m[I 2022-09-30 20:05:38,342]\u001b[0m Trial 62 finished with value: 0.6399127672858548 and parameters: {'max_depth': 5, 'learning_rate': 0.05549995176170933, 'colsample_bytree': 0.5877151670151537, 'subsample': 0.805098150971338, 'gamma': 0.4662068897655349, 'reg_lambda': 4, 'scale_pos_weight': 3, 'eta': 1.6645249326870928e-05, 'min_child_weight': 0.01026257624643258}. Best is trial 28 with value: 0.6577729672325274.\u001b[0m\n",
      "\u001b[32m[I 2022-09-30 20:05:43,942]\u001b[0m Trial 63 finished with value: 0.6272037372814749 and parameters: {'max_depth': 5, 'learning_rate': 0.06419594130769178, 'colsample_bytree': 0.6559922712837473, 'subsample': 0.8395214752499056, 'gamma': 0.6617740473765625, 'reg_lambda': 3, 'scale_pos_weight': 7, 'eta': 1.5655805965775592e-06, 'min_child_weight': 1.3700280976499113}. Best is trial 28 with value: 0.6577729672325274.\u001b[0m\n",
      "\u001b[32m[I 2022-09-30 20:05:49,006]\u001b[0m Trial 64 finished with value: 0.5942498774810095 and parameters: {'max_depth': 4, 'learning_rate': 0.39175993783691887, 'colsample_bytree': 0.6345137619676837, 'subsample': 0.7555527973175271, 'gamma': 0.6039393541202229, 'reg_lambda': 8, 'scale_pos_weight': 6, 'eta': 5.253610740953386e-05, 'min_child_weight': 0.3666249613262504}. Best is trial 28 with value: 0.6577729672325274.\u001b[0m\n",
      "\u001b[32m[I 2022-09-30 20:05:53,707]\u001b[0m Trial 65 finished with value: 0.6416013657218396 and parameters: {'max_depth': 4, 'learning_rate': 0.07302379705453818, 'colsample_bytree': 0.5670578601164226, 'subsample': 0.7808893446050462, 'gamma': 0.7241131729161601, 'reg_lambda': 5, 'scale_pos_weight': 4, 'eta': 0.0004061552953828535, 'min_child_weight': 0.6529067625528902}. Best is trial 28 with value: 0.6577729672325274.\u001b[0m\n",
      "\u001b[32m[I 2022-09-30 20:05:58,653]\u001b[0m Trial 66 finished with value: 0.6302505194976998 and parameters: {'max_depth': 3, 'learning_rate': 0.054714411433016356, 'colsample_bytree': 0.7080035992239061, 'subsample': 0.8274252720187897, 'gamma': 0.49445727143201307, 'reg_lambda': 9, 'scale_pos_weight': 2, 'eta': 0.02682064199865567, 'min_child_weight': 0.23410228630399496}. Best is trial 28 with value: 0.6577729672325274.\u001b[0m\n",
      "\u001b[32m[I 2022-09-30 20:06:03,586]\u001b[0m Trial 67 finished with value: 0.6100104337574783 and parameters: {'max_depth': 5, 'learning_rate': 0.091171988498986, 'colsample_bytree': 0.5218521353574577, 'subsample': 0.8038371631370781, 'gamma': 0.42117550826510214, 'reg_lambda': 5, 'scale_pos_weight': 3, 'eta': 5.373446874576559e-06, 'min_child_weight': 0.8059784069203725}. Best is trial 28 with value: 0.6577729672325274.\u001b[0m\n",
      "\u001b[32m[I 2022-09-30 20:06:08,364]\u001b[0m Trial 68 finished with value: 0.6273633268574453 and parameters: {'max_depth': 3, 'learning_rate': 0.08034467216695489, 'colsample_bytree': 0.67736524894793, 'subsample': 0.7280477758076399, 'gamma': 0.30535578629265436, 'reg_lambda': 4, 'scale_pos_weight': 8, 'eta': 2.808459525171124e-07, 'min_child_weight': 0.14318058779981696}. Best is trial 28 with value: 0.6577729672325274.\u001b[0m\n",
      "\u001b[32m[I 2022-09-30 20:06:12,204]\u001b[0m Trial 69 finished with value: 0.5312244185630635 and parameters: {'max_depth': 3, 'learning_rate': 0.06145993603521574, 'colsample_bytree': 0.6160687305177891, 'subsample': 0.8520181343685954, 'gamma': 0.24711439620713924, 'reg_lambda': 2, 'scale_pos_weight': 6, 'eta': 2.8885285213135446e-05, 'min_child_weight': 91.94990645109634}. Best is trial 28 with value: 0.6577729672325274.\u001b[0m\n",
      "\u001b[32m[I 2022-09-30 20:06:16,669]\u001b[0m Trial 70 finished with value: 0.6184105436989378 and parameters: {'max_depth': 3, 'learning_rate': 0.10408180858692823, 'colsample_bytree': 0.5930408069499159, 'subsample': 0.7670403698314072, 'gamma': 0.63828928117456, 'reg_lambda': 7, 'scale_pos_weight': 5, 'eta': 0.001588232661681163, 'min_child_weight': 0.5477429241657555}. Best is trial 28 with value: 0.6577729672325274.\u001b[0m\n",
      "\u001b[32m[I 2022-09-30 20:06:21,521]\u001b[0m Trial 71 finished with value: 0.6172842794598355 and parameters: {'max_depth': 3, 'learning_rate': 0.05889010388415318, 'colsample_bytree': 0.7061503787715775, 'subsample': 0.8611378141001057, 'gamma': 0.5430705712184691, 'reg_lambda': 0, 'scale_pos_weight': 2, 'eta': 5.238019525159616e-08, 'min_child_weight': 0.9848516585910091}. Best is trial 28 with value: 0.6577729672325274.\u001b[0m\n",
      "\u001b[32m[I 2022-09-30 20:06:26,541]\u001b[0m Trial 72 finished with value: 0.6518341680106385 and parameters: {'max_depth': 3, 'learning_rate': 0.058652199693576636, 'colsample_bytree': 0.7420844578403011, 'subsample': 0.8977912048536876, 'gamma': 0.38006930083533014, 'reg_lambda': 0, 'scale_pos_weight': 2, 'eta': 1.985811281777404e-07, 'min_child_weight': 0.3718878690625845}. Best is trial 28 with value: 0.6577729672325274.\u001b[0m\n",
      "\u001b[32m[I 2022-09-30 20:06:31,458]\u001b[0m Trial 73 finished with value: 0.6196522598429293 and parameters: {'max_depth': 3, 'learning_rate': 0.0646488066622801, 'colsample_bytree': 0.7433669542498218, 'subsample': 0.8884794249776945, 'gamma': 0.41148638468067245, 'reg_lambda': 1, 'scale_pos_weight': 2, 'eta': 2.1309062437837374e-07, 'min_child_weight': 0.41305451049169095}. Best is trial 28 with value: 0.6577729672325274.\u001b[0m\n",
      "\u001b[32m[I 2022-09-30 20:06:36,142]\u001b[0m Trial 74 finished with value: 0.6110298217918209 and parameters: {'max_depth': 3, 'learning_rate': 0.05471288974416216, 'colsample_bytree': 0.6421132940705063, 'subsample': 0.8456890546009246, 'gamma': 0.38540943717416115, 'reg_lambda': 0, 'scale_pos_weight': 1, 'eta': 7.15584412804209e-07, 'min_child_weight': 0.3227096552668587}. Best is trial 28 with value: 0.6577729672325274.\u001b[0m\n",
      "\u001b[32m[I 2022-09-30 20:06:41,170]\u001b[0m Trial 75 finished with value: 0.6393380306760851 and parameters: {'max_depth': 3, 'learning_rate': 0.05261088107809983, 'colsample_bytree': 0.7889246097056135, 'subsample': 0.8948864645041351, 'gamma': 0.7121937644449481, 'reg_lambda': 1, 'scale_pos_weight': 3, 'eta': 1.0247551743552236e-05, 'min_child_weight': 1.6599719991290527}. Best is trial 28 with value: 0.6577729672325274.\u001b[0m\n",
      "\u001b[32m[I 2022-09-30 20:06:45,672]\u001b[0m Trial 76 finished with value: 0.5824633601547743 and parameters: {'max_depth': 3, 'learning_rate': 0.07269221772536731, 'colsample_bytree': 0.6573960909648535, 'subsample': 0.8245204885757126, 'gamma': 0.3678023059366357, 'reg_lambda': 6, 'scale_pos_weight': 1, 'eta': 0.00014724224416592897, 'min_child_weight': 0.5957394451513554}. Best is trial 28 with value: 0.6577729672325274.\u001b[0m\n",
      "\u001b[32m[I 2022-09-30 20:06:51,067]\u001b[0m Trial 77 finished with value: 0.6264018906945702 and parameters: {'max_depth': 4, 'learning_rate': 0.058380691240080364, 'colsample_bytree': 0.6856264065679234, 'subsample': 0.7943867919694312, 'gamma': 0.7823558224431107, 'reg_lambda': 0, 'scale_pos_weight': 4, 'eta': 1.2329774404843281e-06, 'min_child_weight': 0.2087217043834267}. Best is trial 28 with value: 0.6577729672325274.\u001b[0m\n",
      "\u001b[32m[I 2022-09-30 20:06:55,474]\u001b[0m Trial 78 finished with value: 0.6497225532812483 and parameters: {'max_depth': 3, 'learning_rate': 0.06751267016642393, 'colsample_bytree': 0.5426330172505962, 'subsample': 0.8622670495270521, 'gamma': 0.44545163284815903, 'reg_lambda': 0, 'scale_pos_weight': 2, 'eta': 0.013861438164976316, 'min_child_weight': 0.3826683053655365}. Best is trial 28 with value: 0.6577729672325274.\u001b[0m\n",
      "\u001b[32m[I 2022-09-30 20:06:59,477]\u001b[0m Trial 79 finished with value: 0.640177602354073 and parameters: {'max_depth': 3, 'learning_rate': 0.07946100504073472, 'colsample_bytree': 0.44649194210755133, 'subsample': 0.8803749227794296, 'gamma': 0.45246402323660917, 'reg_lambda': 0, 'scale_pos_weight': 2, 'eta': 0.012995067417161728, 'min_child_weight': 0.09317407729040782}. Best is trial 28 with value: 0.6577729672325274.\u001b[0m\n"
     ]
    },
    {
     "name": "stderr",
     "output_type": "stream",
     "text": [
      "\u001b[32m[I 2022-09-30 20:07:02,891]\u001b[0m Trial 80 finished with value: 0.0 and parameters: {'max_depth': 3, 'learning_rate': 0.06747211259711898, 'colsample_bytree': 0.5522289272432632, 'subsample': 0.8393660691478319, 'gamma': 0.48588287290230225, 'reg_lambda': 1, 'scale_pos_weight': 0, 'eta': 0.005291903136266937, 'min_child_weight': 0.27199156473313574}. Best is trial 28 with value: 0.6577729672325274.\u001b[0m\n",
      "\u001b[32m[I 2022-09-30 20:07:07,302]\u001b[0m Trial 81 finished with value: 0.6297769978500202 and parameters: {'max_depth': 3, 'learning_rate': 0.06153501344520057, 'colsample_bytree': 0.6033048939420149, 'subsample': 0.8651883123991053, 'gamma': 0.1705830301000221, 'reg_lambda': 0, 'scale_pos_weight': 2, 'eta': 3.1512499789604424e-06, 'min_child_weight': 0.7583488310537523}. Best is trial 28 with value: 0.6577729672325274.\u001b[0m\n",
      "\u001b[32m[I 2022-09-30 20:07:11,549]\u001b[0m Trial 82 finished with value: 0.6473407816809429 and parameters: {'max_depth': 3, 'learning_rate': 0.05014445930371707, 'colsample_bytree': 0.48541143522208274, 'subsample': 0.8106302117605384, 'gamma': 0.3195190996394705, 'reg_lambda': 0, 'scale_pos_weight': 3, 'eta': 1.4420679456930104e-07, 'min_child_weight': 0.42929076988030984}. Best is trial 28 with value: 0.6577729672325274.\u001b[0m\n",
      "\u001b[32m[I 2022-09-30 20:07:15,700]\u001b[0m Trial 83 finished with value: 0.6535837886793798 and parameters: {'max_depth': 3, 'learning_rate': 0.05001455591942065, 'colsample_bytree': 0.4907138981736839, 'subsample': 0.8105590107515734, 'gamma': 0.26222077302376356, 'reg_lambda': 0, 'scale_pos_weight': 3, 'eta': 1.8222734925347752e-07, 'min_child_weight': 0.3550476030830452}. Best is trial 28 with value: 0.6577729672325274.\u001b[0m\n",
      "\u001b[32m[I 2022-09-30 20:07:19,857]\u001b[0m Trial 84 finished with value: 0.6565409059688223 and parameters: {'max_depth': 3, 'learning_rate': 0.050179526184483965, 'colsample_bytree': 0.48245589135055306, 'subsample': 0.8062825250602067, 'gamma': 0.2694999691174429, 'reg_lambda': 0, 'scale_pos_weight': 3, 'eta': 0.1094776155753964, 'min_child_weight': 0.5145130500699945}. Best is trial 28 with value: 0.6577729672325274.\u001b[0m\n",
      "\u001b[32m[I 2022-09-30 20:07:23,907]\u001b[0m Trial 85 finished with value: 0.6502926429852648 and parameters: {'max_depth': 3, 'learning_rate': 0.050727509105590284, 'colsample_bytree': 0.4835605414975535, 'subsample': 0.8988696044502131, 'gamma': 0.26875502757373076, 'reg_lambda': 0, 'scale_pos_weight': 3, 'eta': 0.08335286956466172, 'min_child_weight': 1.1703849979619205}. Best is trial 28 with value: 0.6577729672325274.\u001b[0m\n",
      "\u001b[32m[I 2022-09-30 20:07:28,022]\u001b[0m Trial 86 finished with value: 0.6474607829938593 and parameters: {'max_depth': 3, 'learning_rate': 0.05064275761417271, 'colsample_bytree': 0.4897546737504217, 'subsample': 0.8810013140907988, 'gamma': 0.2583503330834943, 'reg_lambda': 0, 'scale_pos_weight': 4, 'eta': 0.14963408315822793, 'min_child_weight': 1.5543426108855674}. Best is trial 28 with value: 0.6577729672325274.\u001b[0m\n",
      "\u001b[32m[I 2022-09-30 20:07:32,038]\u001b[0m Trial 87 finished with value: 0.6450108757922552 and parameters: {'max_depth': 3, 'learning_rate': 0.05286402874298907, 'colsample_bytree': 0.4880177703107181, 'subsample': 0.887903710334529, 'gamma': 0.27174749827403094, 'reg_lambda': 0, 'scale_pos_weight': 4, 'eta': 0.19830500295243478, 'min_child_weight': 1.478768553027503}. Best is trial 28 with value: 0.6577729672325274.\u001b[0m\n",
      "\u001b[32m[I 2022-09-30 20:07:36,217]\u001b[0m Trial 88 finished with value: 0.6607818210137568 and parameters: {'max_depth': 3, 'learning_rate': 0.05005151182350356, 'colsample_bytree': 0.5053233384294837, 'subsample': 0.8580843511640536, 'gamma': 0.31770375860914074, 'reg_lambda': 0, 'scale_pos_weight': 3, 'eta': 0.21578268315857582, 'min_child_weight': 1.1821779126822496}. Best is trial 88 with value: 0.6607818210137568.\u001b[0m\n",
      "\u001b[32m[I 2022-09-30 20:07:40,291]\u001b[0m Trial 89 finished with value: 0.6520478385975242 and parameters: {'max_depth': 3, 'learning_rate': 0.055427786442203066, 'colsample_bytree': 0.502565806094289, 'subsample': 0.8967603282668447, 'gamma': 0.17487888524745981, 'reg_lambda': 1, 'scale_pos_weight': 4, 'eta': 0.13756107257540293, 'min_child_weight': 2.1637916351356217}. Best is trial 88 with value: 0.6607818210137568.\u001b[0m\n",
      "\u001b[32m[I 2022-09-30 20:07:44,356]\u001b[0m Trial 90 finished with value: 0.6632351240118541 and parameters: {'max_depth': 3, 'learning_rate': 0.0568140027386999, 'colsample_bytree': 0.5029791486333597, 'subsample': 0.8597398112279815, 'gamma': 0.1767768016069099, 'reg_lambda': 1, 'scale_pos_weight': 3, 'eta': 0.43315786119431887, 'min_child_weight': 2.313816864273371}. Best is trial 90 with value: 0.6632351240118541.\u001b[0m\n",
      "\u001b[32m[I 2022-09-30 20:07:48,164]\u001b[0m Trial 91 finished with value: 0.6661001100686061 and parameters: {'max_depth': 3, 'learning_rate': 0.05693219428933907, 'colsample_bytree': 0.46408831113261273, 'subsample': 0.8602148422078347, 'gamma': 0.18085703190358235, 'reg_lambda': 1, 'scale_pos_weight': 3, 'eta': 0.4101621352472498, 'min_child_weight': 2.5333912017853164}. Best is trial 91 with value: 0.6661001100686061.\u001b[0m\n",
      "\u001b[32m[I 2022-09-30 20:07:52,123]\u001b[0m Trial 92 finished with value: 0.6659614623692791 and parameters: {'max_depth': 3, 'learning_rate': 0.05737809820188977, 'colsample_bytree': 0.46246651523101945, 'subsample': 0.8960862695531855, 'gamma': 0.18576991268193893, 'reg_lambda': 1, 'scale_pos_weight': 3, 'eta': 0.4916444513020728, 'min_child_weight': 2.5213983834784637}. Best is trial 91 with value: 0.6661001100686061.\u001b[0m\n",
      "\u001b[32m[I 2022-09-30 20:07:56,063]\u001b[0m Trial 93 finished with value: 0.6626329741708534 and parameters: {'max_depth': 3, 'learning_rate': 0.056393672307733685, 'colsample_bytree': 0.4650380608913064, 'subsample': 0.8739038434493916, 'gamma': 0.09715623948744315, 'reg_lambda': 1, 'scale_pos_weight': 3, 'eta': 0.3684730186534175, 'min_child_weight': 2.4689972142135024}. Best is trial 91 with value: 0.6661001100686061.\u001b[0m\n",
      "\u001b[32m[I 2022-09-30 20:08:00,081]\u001b[0m Trial 94 finished with value: 0.6514601833347615 and parameters: {'max_depth': 3, 'learning_rate': 0.05663722286959842, 'colsample_bytree': 0.46319093043257775, 'subsample': 0.8533714797284251, 'gamma': 0.10117074371708612, 'reg_lambda': 1, 'scale_pos_weight': 3, 'eta': 0.4788629651436142, 'min_child_weight': 2.531516718206421}. Best is trial 91 with value: 0.6661001100686061.\u001b[0m\n",
      "\u001b[32m[I 2022-09-30 20:08:03,996]\u001b[0m Trial 95 finished with value: 0.6541365134624643 and parameters: {'max_depth': 3, 'learning_rate': 0.05646265740760419, 'colsample_bytree': 0.5007256101589376, 'subsample': 0.8747789622336462, 'gamma': 0.18450883841176374, 'reg_lambda': 1, 'scale_pos_weight': 4, 'eta': 0.38298227433537396, 'min_child_weight': 4.648125439093208}. Best is trial 91 with value: 0.6661001100686061.\u001b[0m\n",
      "\u001b[32m[I 2022-09-30 20:08:07,726]\u001b[0m Trial 96 finished with value: 0.6463225580770026 and parameters: {'max_depth': 3, 'learning_rate': 0.05701263683295889, 'colsample_bytree': 0.4130436717712387, 'subsample': 0.8707567164561116, 'gamma': 0.04127135527062553, 'reg_lambda': 2, 'scale_pos_weight': 3, 'eta': 0.3927334629711502, 'min_child_weight': 3.977063167149257}. Best is trial 91 with value: 0.6661001100686061.\u001b[0m\n",
      "\u001b[32m[I 2022-09-30 20:08:11,347]\u001b[0m Trial 97 finished with value: 0.6423219954132442 and parameters: {'max_depth': 3, 'learning_rate': 0.053605706664701734, 'colsample_bytree': 0.4478723796549082, 'subsample': 0.8369208631471159, 'gamma': 0.13212888125079164, 'reg_lambda': 1, 'scale_pos_weight': 4, 'eta': 0.3415143394021984, 'min_child_weight': 11.075894556338948}. Best is trial 91 with value: 0.6661001100686061.\u001b[0m\n",
      "\u001b[32m[I 2022-09-30 20:08:15,245]\u001b[0m Trial 98 finished with value: 0.6566140889699693 and parameters: {'max_depth': 3, 'learning_rate': 0.05992359730349111, 'colsample_bytree': 0.46846178989432263, 'subsample': 0.8457605923874276, 'gamma': 0.19567272275146805, 'reg_lambda': 1, 'scale_pos_weight': 3, 'eta': 0.7087718185782831, 'min_child_weight': 6.227212562386752}. Best is trial 91 with value: 0.6661001100686061.\u001b[0m\n",
      "\u001b[32m[I 2022-09-30 20:08:19,030]\u001b[0m Trial 99 finished with value: 0.6647563708968264 and parameters: {'max_depth': 3, 'learning_rate': 0.06099835759625013, 'colsample_bytree': 0.46684518584750273, 'subsample': 0.846179767726812, 'gamma': 0.19758340259944068, 'reg_lambda': 1, 'scale_pos_weight': 3, 'eta': 0.6336162815275346, 'min_child_weight': 6.739861710120158}. Best is trial 91 with value: 0.6661001100686061.\u001b[0m\n"
     ]
    },
    {
     "name": "stderr",
     "output_type": "stream",
     "text": [
      "\u001b[32m[I 2022-09-30 20:08:22,680]\u001b[0m Trial 100 finished with value: 0.5812414799782883 and parameters: {'max_depth': 3, 'learning_rate': 0.28537182363123786, 'colsample_bytree': 0.4632494837013446, 'subsample': 0.5414340630202727, 'gamma': 0.19984343349911562, 'reg_lambda': 1, 'scale_pos_weight': 3, 'eta': 0.6837928613105412, 'min_child_weight': 5.541682718460925}. Best is trial 91 with value: 0.6661001100686061.\u001b[0m\n",
      "\u001b[32m[I 2022-09-30 20:08:26,576]\u001b[0m Trial 101 finished with value: 0.6566484192991331 and parameters: {'max_depth': 3, 'learning_rate': 0.05923660929183871, 'colsample_bytree': 0.5108664174634788, 'subsample': 0.8727118833145604, 'gamma': 0.14024937748231833, 'reg_lambda': 1, 'scale_pos_weight': 3, 'eta': 0.2733308773310793, 'min_child_weight': 7.302083196273677}. Best is trial 91 with value: 0.6661001100686061.\u001b[0m\n",
      "\u001b[32m[I 2022-09-30 20:08:30,566]\u001b[0m Trial 102 finished with value: 0.6513212863528709 and parameters: {'max_depth': 3, 'learning_rate': 0.06546917391447421, 'colsample_bytree': 0.4719699354305829, 'subsample': 0.8731539887024649, 'gamma': 0.13886938266220122, 'reg_lambda': 2, 'scale_pos_weight': 3, 'eta': 0.26722988873705616, 'min_child_weight': 6.882341855461565}. Best is trial 91 with value: 0.6661001100686061.\u001b[0m\n",
      "\u001b[32m[I 2022-09-30 20:08:34,462]\u001b[0m Trial 103 finished with value: 0.6398259114368621 and parameters: {'max_depth': 3, 'learning_rate': 0.05935816938777502, 'colsample_bytree': 0.5115946427814524, 'subsample': 0.8501784234398941, 'gamma': 0.19452182370453222, 'reg_lambda': 1, 'scale_pos_weight': 4, 'eta': 0.09191559541736018, 'min_child_weight': 18.656308046480973}. Best is trial 91 with value: 0.6661001100686061.\u001b[0m\n",
      "\u001b[32m[I 2022-09-30 20:08:38,223]\u001b[0m Trial 104 finished with value: 0.6642012496539239 and parameters: {'max_depth': 3, 'learning_rate': 0.06027389626484117, 'colsample_bytree': 0.42772475822294465, 'subsample': 0.8847097662737929, 'gamma': 0.08645914777817582, 'reg_lambda': 2, 'scale_pos_weight': 3, 'eta': 0.9284144679939379, 'min_child_weight': 3.146294964313394}. Best is trial 91 with value: 0.6661001100686061.\u001b[0m\n",
      "\u001b[32m[I 2022-09-30 20:08:41,932]\u001b[0m Trial 105 finished with value: 0.6462868505015236 and parameters: {'max_depth': 3, 'learning_rate': 0.06504939868345573, 'colsample_bytree': 0.42507887283632534, 'subsample': 0.8301454122883841, 'gamma': 0.07926400983722089, 'reg_lambda': 2, 'scale_pos_weight': 3, 'eta': 0.991871742253875, 'min_child_weight': 2.9001983901689585}. Best is trial 91 with value: 0.6661001100686061.\u001b[0m\n",
      "\u001b[32m[I 2022-09-30 20:08:45,681]\u001b[0m Trial 106 finished with value: 0.6469979772384373 and parameters: {'max_depth': 3, 'learning_rate': 0.060636763700328986, 'colsample_bytree': 0.4460344202770677, 'subsample': 0.8874401410358395, 'gamma': 0.15280290896913526, 'reg_lambda': 2, 'scale_pos_weight': 3, 'eta': 0.6068032670270948, 'min_child_weight': 8.511792950458162}. Best is trial 91 with value: 0.6661001100686061.\u001b[0m\n",
      "\u001b[32m[I 2022-09-30 20:08:49,359]\u001b[0m Trial 107 finished with value: 0.6596052414926165 and parameters: {'max_depth': 3, 'learning_rate': 0.05299738023891601, 'colsample_bytree': 0.4000295118759186, 'subsample': 0.8644027427346642, 'gamma': 0.0005492062803520853, 'reg_lambda': 1, 'scale_pos_weight': 3, 'eta': 0.2394708177332448, 'min_child_weight': 3.4852565840539853}. Best is trial 91 with value: 0.6661001100686061.\u001b[0m\n",
      "\u001b[32m[I 2022-09-30 20:08:53,076]\u001b[0m Trial 108 finished with value: 0.6448103957850481 and parameters: {'max_depth': 3, 'learning_rate': 0.07601357589119877, 'colsample_bytree': 0.41072012822481063, 'subsample': 0.8586797707767135, 'gamma': 0.015323906606783337, 'reg_lambda': 1, 'scale_pos_weight': 2, 'eta': 0.22212263692116008, 'min_child_weight': 3.8220752617495415}. Best is trial 91 with value: 0.6661001100686061.\u001b[0m\n",
      "\u001b[32m[I 2022-09-30 20:08:56,753]\u001b[0m Trial 109 finished with value: 0.627695811283408 and parameters: {'max_depth': 3, 'learning_rate': 0.18786699325610898, 'colsample_bytree': 0.4354593512435492, 'subsample': 0.8828255745690019, 'gamma': 0.1055467397082079, 'reg_lambda': 1, 'scale_pos_weight': 3, 'eta': 0.051157631768982005, 'min_child_weight': 5.70826004499264}. Best is trial 91 with value: 0.6661001100686061.\u001b[0m\n",
      "\u001b[32m[I 2022-09-30 20:09:00,904]\u001b[0m Trial 110 finished with value: 0.6481845015219128 and parameters: {'max_depth': 3, 'learning_rate': 0.07009103113315299, 'colsample_bytree': 0.4582720308693549, 'subsample': 0.8444854727540103, 'gamma': 0.05256269034668959, 'reg_lambda': 2, 'scale_pos_weight': 4, 'eta': 0.5603697322270815, 'min_child_weight': 3.367699956062945}. Best is trial 91 with value: 0.6661001100686061.\u001b[0m\n",
      "\u001b[32m[I 2022-09-30 20:09:04,685]\u001b[0m Trial 111 finished with value: 0.6576219349942627 and parameters: {'max_depth': 3, 'learning_rate': 0.05382929593547111, 'colsample_bytree': 0.4009047304101383, 'subsample': 0.8666003693055422, 'gamma': 0.21155783270498832, 'reg_lambda': 1, 'scale_pos_weight': 3, 'eta': 0.09740524753463824, 'min_child_weight': 2.4366590808414905}. Best is trial 91 with value: 0.6661001100686061.\u001b[0m\n",
      "\u001b[32m[I 2022-09-30 20:09:08,544]\u001b[0m Trial 112 finished with value: 0.6654957588421921 and parameters: {'max_depth': 3, 'learning_rate': 0.0543571499540228, 'colsample_bytree': 0.4238966232800293, 'subsample': 0.8628416336886788, 'gamma': 0.21671986792759124, 'reg_lambda': 1, 'scale_pos_weight': 3, 'eta': 0.2963723439656238, 'min_child_weight': 2.6378440756093924}. Best is trial 91 with value: 0.6661001100686061.\u001b[0m\n",
      "\u001b[32m[I 2022-09-30 20:09:12,379]\u001b[0m Trial 113 finished with value: 0.6680455047949372 and parameters: {'max_depth': 3, 'learning_rate': 0.05361815504518737, 'colsample_bytree': 0.4010960443245244, 'subsample': 0.8649428457555949, 'gamma': 0.2243616195873652, 'reg_lambda': 2, 'scale_pos_weight': 3, 'eta': 0.2947613900687472, 'min_child_weight': 1.8539893652065342}. Best is trial 113 with value: 0.6680455047949372.\u001b[0m\n",
      "\u001b[32m[I 2022-09-30 20:09:16,185]\u001b[0m Trial 114 finished with value: 0.6662468972005582 and parameters: {'max_depth': 3, 'learning_rate': 0.05346799767762755, 'colsample_bytree': 0.42118333253683954, 'subsample': 0.8630193259685309, 'gamma': 0.22624170959130033, 'reg_lambda': 2, 'scale_pos_weight': 3, 'eta': 0.1794568344419584, 'min_child_weight': 2.4885657386099234}. Best is trial 113 with value: 0.6680455047949372.\u001b[0m\n",
      "\u001b[32m[I 2022-09-30 20:09:20,005]\u001b[0m Trial 115 finished with value: 0.6389793267925612 and parameters: {'max_depth': 3, 'learning_rate': 0.05332359571239109, 'colsample_bytree': 0.42158596509223023, 'subsample': 0.8584817969333559, 'gamma': 0.22864126630057058, 'reg_lambda': 3, 'scale_pos_weight': 2, 'eta': 0.17990973542861272, 'min_child_weight': 1.9120487064165197}. Best is trial 113 with value: 0.6680455047949372.\u001b[0m\n",
      "\u001b[32m[I 2022-09-30 20:09:23,840]\u001b[0m Trial 116 finished with value: 0.6579206452115594 and parameters: {'max_depth': 3, 'learning_rate': 0.06410035732929922, 'colsample_bytree': 0.43866521555897564, 'subsample': 0.834726951522124, 'gamma': 0.09271570240869878, 'reg_lambda': 2, 'scale_pos_weight': 3, 'eta': 0.2975710040936223, 'min_child_weight': 3.3388166165850235}. Best is trial 113 with value: 0.6680455047949372.\u001b[0m\n",
      "\u001b[32m[I 2022-09-30 20:09:27,626]\u001b[0m Trial 117 finished with value: 0.6562160638843961 and parameters: {'max_depth': 3, 'learning_rate': 0.05601233927299822, 'colsample_bytree': 0.43543002675404413, 'subsample': 0.8237579728743416, 'gamma': 0.11676635591664719, 'reg_lambda': 3, 'scale_pos_weight': 3, 'eta': 0.39420277555466093, 'min_child_weight': 3.225212988048532}. Best is trial 113 with value: 0.6680455047949372.\u001b[0m\n",
      "\u001b[32m[I 2022-09-30 20:09:31,452]\u001b[0m Trial 118 finished with value: 0.6527822016239028 and parameters: {'max_depth': 3, 'learning_rate': 0.06325951032227795, 'colsample_bytree': 0.41888953122011374, 'subsample': 0.8360914259919395, 'gamma': 0.06702497614379321, 'reg_lambda': 2, 'scale_pos_weight': 4, 'eta': 0.056927244331562696, 'min_child_weight': 4.7689472502848025}. Best is trial 113 with value: 0.6680455047949372.\u001b[0m\n",
      "\u001b[32m[I 2022-09-30 20:09:35,379]\u001b[0m Trial 119 finished with value: 0.6529599296169774 and parameters: {'max_depth': 3, 'learning_rate': 0.05687330491107996, 'colsample_bytree': 0.40074985938055735, 'subsample': 0.8857921339770994, 'gamma': 0.03127312894902877, 'reg_lambda': 2, 'scale_pos_weight': 2, 'eta': 0.2642949955020233, 'min_child_weight': 1.9262190323316086}. Best is trial 113 with value: 0.6680455047949372.\u001b[0m\n"
     ]
    },
    {
     "name": "stderr",
     "output_type": "stream",
     "text": [
      "\u001b[32m[I 2022-09-30 20:09:39,296]\u001b[0m Trial 120 finished with value: 0.6556925449867107 and parameters: {'max_depth': 3, 'learning_rate': 0.053554769446174745, 'colsample_bytree': 0.445020958651259, 'subsample': 0.865875947097745, 'gamma': 0.08521875079794886, 'reg_lambda': 2, 'scale_pos_weight': 3, 'eta': 0.035457851043837446, 'min_child_weight': 2.6741351641325553}. Best is trial 113 with value: 0.6680455047949372.\u001b[0m\n",
      "\u001b[32m[I 2022-09-30 20:09:43,135]\u001b[0m Trial 121 finished with value: 0.6615245371669947 and parameters: {'max_depth': 3, 'learning_rate': 0.06200930171963462, 'colsample_bytree': 0.4531775294991358, 'subsample': 0.8509775259568916, 'gamma': 0.1557558433346669, 'reg_lambda': 2, 'scale_pos_weight': 3, 'eta': 0.8554444528677433, 'min_child_weight': 2.335790276675123}. Best is trial 113 with value: 0.6680455047949372.\u001b[0m\n",
      "\u001b[32m[I 2022-09-30 20:09:46,971]\u001b[0m Trial 122 finished with value: 0.6450797073401116 and parameters: {'max_depth': 3, 'learning_rate': 0.061631642469537486, 'colsample_bytree': 0.4312838125402976, 'subsample': 0.8597307146579359, 'gamma': 0.15120962196009555, 'reg_lambda': 2, 'scale_pos_weight': 3, 'eta': 0.8160486804110433, 'min_child_weight': 2.2660929836077903}. Best is trial 113 with value: 0.6680455047949372.\u001b[0m\n",
      "\u001b[32m[I 2022-09-30 20:09:50,735]\u001b[0m Trial 123 finished with value: 0.6067620822820661 and parameters: {'max_depth': 3, 'learning_rate': 0.05801955767716127, 'colsample_bytree': 0.45273123776890284, 'subsample': 0.4073449140855534, 'gamma': 0.24054457010869246, 'reg_lambda': 2, 'scale_pos_weight': 3, 'eta': 0.5051244518781212, 'min_child_weight': 3.567986317645706}. Best is trial 113 with value: 0.6680455047949372.\u001b[0m\n",
      "\u001b[32m[I 2022-09-30 20:09:54,452]\u001b[0m Trial 124 finished with value: 0.6413724789490886 and parameters: {'max_depth': 3, 'learning_rate': 0.05315102503891927, 'colsample_bytree': 0.4107935452861062, 'subsample': 0.8784891224042651, 'gamma': 0.008017448289931808, 'reg_lambda': 3, 'scale_pos_weight': 2, 'eta': 0.9959050165402669, 'min_child_weight': 2.9434826209500145}. Best is trial 113 with value: 0.6680455047949372.\u001b[0m\n",
      "\u001b[32m[I 2022-09-30 20:09:58,425]\u001b[0m Trial 125 finished with value: 0.6585012320757845 and parameters: {'max_depth': 3, 'learning_rate': 0.06654083357504684, 'colsample_bytree': 0.4408712785311415, 'subsample': 0.8488363182890578, 'gamma': 0.16098816670697383, 'reg_lambda': 2, 'scale_pos_weight': 3, 'eta': 0.29694424116247053, 'min_child_weight': 1.1549193888488218}. Best is trial 113 with value: 0.6680455047949372.\u001b[0m\n",
      "\u001b[32m[I 2022-09-30 20:10:02,322]\u001b[0m Trial 126 finished with value: 0.6531900718892815 and parameters: {'max_depth': 3, 'learning_rate': 0.06708274376073284, 'colsample_bytree': 0.41949784535176615, 'subsample': 0.8467151784140804, 'gamma': 0.16036377817413777, 'reg_lambda': 1, 'scale_pos_weight': 4, 'eta': 0.12726247973619673, 'min_child_weight': 1.195316806958819}. Best is trial 113 with value: 0.6680455047949372.\u001b[0m\n",
      "\u001b[32m[I 2022-09-30 20:10:06,381]\u001b[0m Trial 127 finished with value: 0.6620843397188411 and parameters: {'max_depth': 3, 'learning_rate': 0.05702731072970237, 'colsample_bytree': 0.4747782797004195, 'subsample': 0.8652405684061413, 'gamma': 0.12226521965310419, 'reg_lambda': 2, 'scale_pos_weight': 3, 'eta': 0.0693937665805473, 'min_child_weight': 1.8993316269622647}. Best is trial 113 with value: 0.6680455047949372.\u001b[0m\n",
      "\u001b[32m[I 2022-09-30 20:10:10,350]\u001b[0m Trial 128 finished with value: 0.6582641415930538 and parameters: {'max_depth': 3, 'learning_rate': 0.05594438548172679, 'colsample_bytree': 0.47092731372050484, 'subsample': 0.8896239633120654, 'gamma': 0.2215654793731424, 'reg_lambda': 3, 'scale_pos_weight': 3, 'eta': 0.21551522609461393, 'min_child_weight': 1.73430138437758}. Best is trial 113 with value: 0.6680455047949372.\u001b[0m\n",
      "\u001b[32m[I 2022-09-30 20:10:14,069]\u001b[0m Trial 129 finished with value: 0.6330960137325674 and parameters: {'max_depth': 3, 'learning_rate': 0.0525975527216513, 'colsample_bytree': 0.4533186973825048, 'subsample': 0.46925039247148187, 'gamma': 0.059801955806914386, 'reg_lambda': 1, 'scale_pos_weight': 2, 'eta': 0.5072526919836474, 'min_child_weight': 1.4302365218266118}. Best is trial 113 with value: 0.6680455047949372.\u001b[0m\n",
      "\u001b[32m[I 2022-09-30 20:10:17,888]\u001b[0m Trial 130 finished with value: 0.650680195914204 and parameters: {'max_depth': 3, 'learning_rate': 0.0613293602930528, 'colsample_bytree': 0.4252619047688955, 'subsample': 0.8619026982153404, 'gamma': 0.11699634071021689, 'reg_lambda': 2, 'scale_pos_weight': 3, 'eta': 0.13641051777721308, 'min_child_weight': 2.045763349082534}. Best is trial 113 with value: 0.6680455047949372.\u001b[0m\n",
      "\u001b[32m[I 2022-09-30 20:10:21,806]\u001b[0m Trial 131 finished with value: 0.6679961979738965 and parameters: {'max_depth': 3, 'learning_rate': 0.05713094365827089, 'colsample_bytree': 0.43790119399006777, 'subsample': 0.8722412313127401, 'gamma': 0.17994131172467157, 'reg_lambda': 2, 'scale_pos_weight': 3, 'eta': 0.06604478970952218, 'min_child_weight': 2.4889236104155925}. Best is trial 113 with value: 0.6680455047949372.\u001b[0m\n",
      "\u001b[32m[I 2022-09-30 20:10:25,691]\u001b[0m Trial 132 finished with value: 0.666209702496714 and parameters: {'max_depth': 3, 'learning_rate': 0.05716383195426189, 'colsample_bytree': 0.4764955002284373, 'subsample': 0.878962595727277, 'gamma': 0.18045348534649716, 'reg_lambda': 1, 'scale_pos_weight': 3, 'eta': 0.021487814859570166, 'min_child_weight': 4.279068262950368}. Best is trial 113 with value: 0.6680455047949372.\u001b[0m\n",
      "\u001b[32m[I 2022-09-30 20:10:29,570]\u001b[0m Trial 133 finished with value: 0.6488527240870658 and parameters: {'max_depth': 3, 'learning_rate': 0.057598326468791476, 'colsample_bytree': 0.4765269947121918, 'subsample': 0.8990595441363469, 'gamma': 0.1787869105218467, 'reg_lambda': 2, 'scale_pos_weight': 4, 'eta': 0.07083330286013342, 'min_child_weight': 4.737545095437255}. Best is trial 113 with value: 0.6680455047949372.\u001b[0m\n",
      "\u001b[32m[I 2022-09-30 20:10:33,686]\u001b[0m Trial 134 finished with value: 0.6410500061987496 and parameters: {'max_depth': 3, 'learning_rate': 0.05998533662469125, 'colsample_bytree': 0.5276598163118327, 'subsample': 0.8788955821377562, 'gamma': 0.12832730343968657, 'reg_lambda': 1, 'scale_pos_weight': 2, 'eta': 0.025465467192596413, 'min_child_weight': 2.486994219644253}. Best is trial 113 with value: 0.6680455047949372.\u001b[0m\n",
      "\u001b[32m[I 2022-09-30 20:10:37,737]\u001b[0m Trial 135 finished with value: 0.6768051064578999 and parameters: {'max_depth': 3, 'learning_rate': 0.05546325146127295, 'colsample_bytree': 0.46112206415177737, 'subsample': 0.8731338257435752, 'gamma': 0.29759009084387433, 'reg_lambda': 2, 'scale_pos_weight': 3, 'eta': 0.1700123224676651, 'min_child_weight': 1.7566869386824526}. Best is trial 135 with value: 0.6768051064578999.\u001b[0m\n",
      "\u001b[32m[I 2022-09-30 20:10:41,677]\u001b[0m Trial 136 finished with value: 0.6738602101426113 and parameters: {'max_depth': 3, 'learning_rate': 0.06279110143632041, 'colsample_bytree': 0.465255964695516, 'subsample': 0.8730225860095279, 'gamma': 0.28915384726782256, 'reg_lambda': 2, 'scale_pos_weight': 3, 'eta': 0.0679102495506512, 'min_child_weight': 4.149956828194879}. Best is trial 135 with value: 0.6768051064578999.\u001b[0m\n",
      "\u001b[32m[I 2022-09-30 20:10:45,560]\u001b[0m Trial 137 finished with value: 0.6448955656554538 and parameters: {'max_depth': 3, 'learning_rate': 0.07072614586842904, 'colsample_bytree': 0.46239064387640244, 'subsample': 0.8880215567320563, 'gamma': 0.24684359313986626, 'reg_lambda': 3, 'scale_pos_weight': 4, 'eta': 0.0423607951069714, 'min_child_weight': 4.103890603756037}. Best is trial 135 with value: 0.6768051064578999.\u001b[0m\n",
      "\u001b[32m[I 2022-09-30 20:10:49,393]\u001b[0m Trial 138 finished with value: 0.5606037600246626 and parameters: {'max_depth': 3, 'learning_rate': 0.5178347560369356, 'colsample_bytree': 0.4738413097427974, 'subsample': 0.8724749950196502, 'gamma': 0.21270427600858957, 'reg_lambda': 2, 'scale_pos_weight': 3, 'eta': 0.0706399144073582, 'min_child_weight': 1.7814116665328261}. Best is trial 135 with value: 0.6768051064578999.\u001b[0m\n",
      "\u001b[32m[I 2022-09-30 20:10:53,356]\u001b[0m Trial 139 finished with value: 0.6395782493784573 and parameters: {'max_depth': 3, 'learning_rate': 0.055804880669277725, 'colsample_bytree': 0.49506381169078467, 'subsample': 0.8800978523854708, 'gamma': 0.2976498652853191, 'reg_lambda': 2, 'scale_pos_weight': 2, 'eta': 0.15746604750636894, 'min_child_weight': 2.8413396770282273}. Best is trial 135 with value: 0.6768051064578999.\u001b[0m\n"
     ]
    },
    {
     "name": "stderr",
     "output_type": "stream",
     "text": [
      "\u001b[32m[I 2022-09-30 20:10:57,149]\u001b[0m Trial 140 finished with value: 0.6597352239544438 and parameters: {'max_depth': 3, 'learning_rate': 0.05833499408367749, 'colsample_bytree': 0.4369160457684509, 'subsample': 0.8998375222284223, 'gamma': 0.18901498875257128, 'reg_lambda': 1, 'scale_pos_weight': 3, 'eta': 0.021798734622842656, 'min_child_weight': 4.993047116885306}. Best is trial 135 with value: 0.6768051064578999.\u001b[0m\n",
      "\u001b[32m[I 2022-09-30 20:11:01,070]\u001b[0m Trial 141 finished with value: 0.6574276572909705 and parameters: {'max_depth': 3, 'learning_rate': 0.06352183488585082, 'colsample_bytree': 0.45313725589420184, 'subsample': 0.8741386248156725, 'gamma': 0.23510195728201638, 'reg_lambda': 2, 'scale_pos_weight': 3, 'eta': 0.41796338558966584, 'min_child_weight': 2.3918281439261406}. Best is trial 135 with value: 0.6768051064578999.\u001b[0m\n",
      "\u001b[32m[I 2022-09-30 20:11:04,919]\u001b[0m Trial 142 finished with value: 0.6248114003921263 and parameters: {'max_depth': 3, 'learning_rate': 0.2364291104741002, 'colsample_bytree': 0.45952560368474843, 'subsample': 0.8653201490607805, 'gamma': 0.20907369223772648, 'reg_lambda': 2, 'scale_pos_weight': 3, 'eta': 0.645588955037653, 'min_child_weight': 2.152049758162444}. Best is trial 135 with value: 0.6768051064578999.\u001b[0m\n",
      "\u001b[32m[I 2022-09-30 20:11:08,904]\u001b[0m Trial 143 finished with value: 0.6504793719432866 and parameters: {'max_depth': 3, 'learning_rate': 0.061758877361922135, 'colsample_bytree': 0.43095417933773916, 'subsample': 0.8540811414681088, 'gamma': 0.1443542284697825, 'reg_lambda': 3, 'scale_pos_weight': 3, 'eta': 0.10742091547525555, 'min_child_weight': 1.4785243715949266}. Best is trial 135 with value: 0.6768051064578999.\u001b[0m\n",
      "\u001b[32m[I 2022-09-30 20:11:12,755]\u001b[0m Trial 144 finished with value: 0.6572721916401739 and parameters: {'max_depth': 3, 'learning_rate': 0.054980396086758705, 'colsample_bytree': 0.47865679277101353, 'subsample': 0.8891002177570652, 'gamma': 0.17431393792023603, 'reg_lambda': 1, 'scale_pos_weight': 3, 'eta': 0.3802904301708168, 'min_child_weight': 2.8301435882815467}. Best is trial 135 with value: 0.6768051064578999.\u001b[0m\n",
      "\u001b[32m[I 2022-09-30 20:11:16,507]\u001b[0m Trial 145 finished with value: 0.6572914263049933 and parameters: {'max_depth': 3, 'learning_rate': 0.06895693227133785, 'colsample_bytree': 0.41679723481133396, 'subsample': 0.8429943912158002, 'gamma': 0.2908641969109766, 'reg_lambda': 2, 'scale_pos_weight': 3, 'eta': 0.7026557341015491, 'min_child_weight': 4.217485003077637}. Best is trial 135 with value: 0.6768051064578999.\u001b[0m\n",
      "\u001b[32m[I 2022-09-30 20:11:20,388]\u001b[0m Trial 146 finished with value: 0.655847687381718 and parameters: {'max_depth': 3, 'learning_rate': 0.06020343049088441, 'colsample_bytree': 0.4482641763885021, 'subsample': 0.8693639732971326, 'gamma': 0.11425995318620535, 'reg_lambda': 1, 'scale_pos_weight': 4, 'eta': 0.1499462694547583, 'min_child_weight': 1.834101663410315}. Best is trial 135 with value: 0.6768051064578999.\u001b[0m\n",
      "\u001b[32m[I 2022-09-30 20:11:24,137]\u001b[0m Trial 147 finished with value: 0.6439870897695622 and parameters: {'max_depth': 3, 'learning_rate': 0.0570789133611469, 'colsample_bytree': 0.46670775884448695, 'subsample': 0.8251363259161534, 'gamma': 0.19613502928351312, 'reg_lambda': 2, 'scale_pos_weight': 3, 'eta': 0.06567123775376578, 'min_child_weight': 8.395142694853062}. Best is trial 135 with value: 0.6768051064578999.\u001b[0m\n",
      "\u001b[32m[I 2022-09-30 20:11:28,014]\u001b[0m Trial 148 finished with value: 0.61107076899551 and parameters: {'max_depth': 3, 'learning_rate': 0.15118602856778496, 'colsample_bytree': 0.45642637630247074, 'subsample': 0.8816450868549549, 'gamma': 0.16154798258569125, 'reg_lambda': 3, 'scale_pos_weight': 2, 'eta': 0.5498845551569276, 'min_child_weight': 3.579666547336774}. Best is trial 135 with value: 0.6768051064578999.\u001b[0m\n",
      "\u001b[32m[I 2022-09-30 20:11:31,694]\u001b[0m Trial 149 finished with value: 0.639573919299008 and parameters: {'max_depth': 3, 'learning_rate': 0.0752470655287426, 'colsample_bytree': 0.42851113606045543, 'subsample': 0.852950621985735, 'gamma': 0.22281166466113134, 'reg_lambda': 1, 'scale_pos_weight': 3, 'eta': 0.1844546568533339, 'min_child_weight': 10.94745852256164}. Best is trial 135 with value: 0.6768051064578999.\u001b[0m\n",
      "\u001b[32m[I 2022-09-30 20:11:35,512]\u001b[0m Trial 150 finished with value: 0.6407227103382249 and parameters: {'max_depth': 3, 'learning_rate': 0.052184556416919194, 'colsample_bytree': 0.4423400409550436, 'subsample': 0.6002696284562397, 'gamma': 0.1303576647176632, 'reg_lambda': 2, 'scale_pos_weight': 2, 'eta': 0.937575514633023, 'min_child_weight': 2.2324310871486035}. Best is trial 135 with value: 0.6768051064578999.\u001b[0m\n",
      "\u001b[32m[I 2022-09-30 20:11:39,616]\u001b[0m Trial 151 finished with value: 0.6603481912852333 and parameters: {'max_depth': 3, 'learning_rate': 0.0503006708057117, 'colsample_bytree': 0.49525466212696706, 'subsample': 0.8575724427896778, 'gamma': 0.3291143062485694, 'reg_lambda': 1, 'scale_pos_weight': 3, 'eta': 0.33263179379924707, 'min_child_weight': 1.3046320866492982}. Best is trial 135 with value: 0.6768051064578999.\u001b[0m\n",
      "\u001b[32m[I 2022-09-30 20:11:43,784]\u001b[0m Trial 152 finished with value: 0.6625332625687805 and parameters: {'max_depth': 3, 'learning_rate': 0.054830218990230675, 'colsample_bytree': 0.48040409680601476, 'subsample': 0.8710657735397442, 'gamma': 0.2516710237144665, 'reg_lambda': 2, 'scale_pos_weight': 3, 'eta': 0.1957066680780144, 'min_child_weight': 0.8909074989786432}. Best is trial 135 with value: 0.6768051064578999.\u001b[0m\n",
      "\u001b[32m[I 2022-09-30 20:11:47,781]\u001b[0m Trial 153 finished with value: 0.6623701673455636 and parameters: {'max_depth': 3, 'learning_rate': 0.05501189077595466, 'colsample_bytree': 0.47754208140650806, 'subsample': 0.8721765144682866, 'gamma': 0.23718000865785047, 'reg_lambda': 2, 'scale_pos_weight': 3, 'eta': 0.08911023842459505, 'min_child_weight': 2.7127620519351194}. Best is trial 135 with value: 0.6768051064578999.\u001b[0m\n",
      "\u001b[32m[I 2022-09-30 20:11:51,910]\u001b[0m Trial 154 finished with value: 0.6562246906702489 and parameters: {'max_depth': 3, 'learning_rate': 0.05557420473132109, 'colsample_bytree': 0.4801051888092569, 'subsample': 0.8919637641292202, 'gamma': 0.2551102869744098, 'reg_lambda': 2, 'scale_pos_weight': 3, 'eta': 0.03287473562363903, 'min_child_weight': 0.9067202970006342}. Best is trial 135 with value: 0.6768051064578999.\u001b[0m\n",
      "\u001b[32m[I 2022-09-30 20:11:55,892]\u001b[0m Trial 155 finished with value: 0.6640933065448189 and parameters: {'max_depth': 3, 'learning_rate': 0.053468226230646405, 'colsample_bytree': 0.46541273993895776, 'subsample': 0.8726033366573178, 'gamma': 0.2891691672055865, 'reg_lambda': 2, 'scale_pos_weight': 3, 'eta': 0.11802487865999235, 'min_child_weight': 1.6672179551555235}. Best is trial 135 with value: 0.6768051064578999.\u001b[0m\n",
      "\u001b[32m[I 2022-09-30 20:11:59,984]\u001b[0m Trial 156 finished with value: 0.6543197328859272 and parameters: {'max_depth': 3, 'learning_rate': 0.053045197033263145, 'colsample_bytree': 0.4667851158061079, 'subsample': 0.8762799688525179, 'gamma': 0.279896325133267, 'reg_lambda': 1, 'scale_pos_weight': 3, 'eta': 0.10567318474806837, 'min_child_weight': 3.183820638939233}. Best is trial 135 with value: 0.6768051064578999.\u001b[0m\n",
      "\u001b[32m[I 2022-09-30 20:12:03,951]\u001b[0m Trial 157 finished with value: 0.6432492313979505 and parameters: {'max_depth': 3, 'learning_rate': 0.058982732650917885, 'colsample_bytree': 0.48749313428985025, 'subsample': 0.8855763559078812, 'gamma': 0.24453499447435578, 'reg_lambda': 1, 'scale_pos_weight': 4, 'eta': 0.018359883658816606, 'min_child_weight': 6.2445233528854}. Best is trial 135 with value: 0.6768051064578999.\u001b[0m\n",
      "\u001b[32m[I 2022-09-30 20:12:07,690]\u001b[0m Trial 158 finished with value: 0.6497913405876866 and parameters: {'max_depth': 3, 'learning_rate': 0.05416802196325559, 'colsample_bytree': 0.4142417508952477, 'subsample': 0.8709401332047858, 'gamma': 0.348843722329061, 'reg_lambda': 2, 'scale_pos_weight': 4, 'eta': 0.18981202154771165, 'min_child_weight': 1.5962459791728107}. Best is trial 135 with value: 0.6768051064578999.\u001b[0m\n",
      "\u001b[32m[I 2022-09-30 20:12:11,565]\u001b[0m Trial 159 finished with value: 0.6776551073814285 and parameters: {'max_depth': 3, 'learning_rate': 0.06504656351924842, 'colsample_bytree': 0.49620154620878115, 'subsample': 0.8372967033476691, 'gamma': 0.22940834301179885, 'reg_lambda': 1, 'scale_pos_weight': 3, 'eta': 0.04535244469822056, 'min_child_weight': 3.937397952768958}. Best is trial 159 with value: 0.6776551073814285.\u001b[0m\n"
     ]
    },
    {
     "name": "stderr",
     "output_type": "stream",
     "text": [
      "\u001b[32m[I 2022-09-30 20:12:15,536]\u001b[0m Trial 160 finished with value: 0.6505909758586388 and parameters: {'max_depth': 3, 'learning_rate': 0.06408417041146844, 'colsample_bytree': 0.5133299834338729, 'subsample': 0.8344045968529843, 'gamma': 0.29969691144304866, 'reg_lambda': 1, 'scale_pos_weight': 3, 'eta': 0.047423983155201875, 'min_child_weight': 4.048620078107647}. Best is trial 159 with value: 0.6776551073814285.\u001b[0m\n",
      "\u001b[32m[I 2022-09-30 20:12:19,667]\u001b[0m Trial 161 finished with value: 0.6547336578550202 and parameters: {'max_depth': 3, 'learning_rate': 0.059478902813012, 'colsample_bytree': 0.4960003989766493, 'subsample': 0.876670774857595, 'gamma': 0.22289016155953964, 'reg_lambda': 1, 'scale_pos_weight': 3, 'eta': 0.09171265085667529, 'min_child_weight': 2.67201084367435}. Best is trial 159 with value: 0.6776551073814285.\u001b[0m\n",
      "\u001b[32m[I 2022-09-30 20:12:23,560]\u001b[0m Trial 162 finished with value: 0.6638024376206607 and parameters: {'max_depth': 3, 'learning_rate': 0.05499673969424505, 'colsample_bytree': 0.4627584389352686, 'subsample': 0.8409712967734898, 'gamma': 0.19987869304949, 'reg_lambda': 2, 'scale_pos_weight': 3, 'eta': 0.2945419763540099, 'min_child_weight': 5.313635802667113}. Best is trial 159 with value: 0.6776551073814285.\u001b[0m\n",
      "\u001b[32m[I 2022-09-30 20:12:27,320]\u001b[0m Trial 163 finished with value: 0.662362448128859 and parameters: {'max_depth': 3, 'learning_rate': 0.05202460315029633, 'colsample_bytree': 0.46304764427311407, 'subsample': 0.844931489237052, 'gamma': 0.20479279262402156, 'reg_lambda': 1, 'scale_pos_weight': 3, 'eta': 0.3038444644409651, 'min_child_weight': 5.118474529319141}. Best is trial 159 with value: 0.6776551073814285.\u001b[0m\n",
      "\u001b[32m[I 2022-09-30 20:12:31,098]\u001b[0m Trial 164 finished with value: 0.6566264035864912 and parameters: {'max_depth': 3, 'learning_rate': 0.06650912698247305, 'colsample_bytree': 0.44517247356033285, 'subsample': 0.8632284439339833, 'gamma': 0.18109536333259768, 'reg_lambda': 2, 'scale_pos_weight': 3, 'eta': 0.41482949709863126, 'min_child_weight': 6.888903420821736}. Best is trial 159 with value: 0.6776551073814285.\u001b[0m\n",
      "\u001b[32m[I 2022-09-30 20:12:34,981]\u001b[0m Trial 165 finished with value: 0.5986090902051184 and parameters: {'max_depth': 3, 'learning_rate': 0.057593088836987875, 'colsample_bytree': 0.4345244810947416, 'subsample': 0.8890848970657572, 'gamma': 0.27737269362119793, 'reg_lambda': 1, 'scale_pos_weight': 10, 'eta': 0.21734081452043003, 'min_child_weight': 3.7074095741945796}. Best is trial 159 with value: 0.6776551073814285.\u001b[0m\n",
      "\u001b[32m[I 2022-09-30 20:12:38,727]\u001b[0m Trial 166 finished with value: 0.6465085774626013 and parameters: {'max_depth': 3, 'learning_rate': 0.061731197163242955, 'colsample_bytree': 0.46761171443922844, 'subsample': 0.6428955436610894, 'gamma': 0.2511849259333915, 'reg_lambda': 1, 'scale_pos_weight': 3, 'eta': 0.14549176770075264, 'min_child_weight': 5.392480055016129}. Best is trial 159 with value: 0.6776551073814285.\u001b[0m\n",
      "\u001b[32m[I 2022-09-30 20:12:42,395]\u001b[0m Trial 167 finished with value: 0.6518034640866129 and parameters: {'max_depth': 3, 'learning_rate': 0.05448182760072065, 'colsample_bytree': 0.4099504829355815, 'subsample': 0.8389788997285579, 'gamma': 0.1933125255058143, 'reg_lambda': 2, 'scale_pos_weight': 3, 'eta': 0.5127099579830108, 'min_child_weight': 2.93054606098894}. Best is trial 159 with value: 0.6776551073814285.\u001b[0m\n",
      "\u001b[32m[I 2022-09-30 20:12:46,288]\u001b[0m Trial 168 finished with value: 0.62894589521616 and parameters: {'max_depth': 3, 'learning_rate': 0.12228496400917561, 'colsample_bytree': 0.4523885922277239, 'subsample': 0.8997171210071125, 'gamma': 0.22059183725440365, 'reg_lambda': 2, 'scale_pos_weight': 2, 'eta': 0.2784125005858861, 'min_child_weight': 4.374461129771485}. Best is trial 159 with value: 0.6776551073814285.\u001b[0m\n",
      "\u001b[32m[I 2022-09-30 20:12:50,262]\u001b[0m Trial 169 finished with value: 0.6638013957271792 and parameters: {'max_depth': 3, 'learning_rate': 0.06494612074904908, 'colsample_bytree': 0.48748092177258956, 'subsample': 0.8560977588920523, 'gamma': 0.25777455901533247, 'reg_lambda': 3, 'scale_pos_weight': 3, 'eta': 0.155569905975387, 'min_child_weight': 2.010556110429531}. Best is trial 159 with value: 0.6776551073814285.\u001b[0m\n",
      "\u001b[32m[I 2022-09-30 20:12:54,068]\u001b[0m Trial 170 finished with value: 0.6474222290570466 and parameters: {'max_depth': 3, 'learning_rate': 0.06611438405625306, 'colsample_bytree': 0.42571526132900656, 'subsample': 0.8222276976356623, 'gamma': 0.18472382514672092, 'reg_lambda': 3, 'scale_pos_weight': 4, 'eta': 0.12275826041161404, 'min_child_weight': 2.1034611597813355}. Best is trial 159 with value: 0.6776551073814285.\u001b[0m\n",
      "\u001b[32m[I 2022-09-30 20:12:58,105]\u001b[0m Trial 171 finished with value: 0.6559842254656164 and parameters: {'max_depth': 3, 'learning_rate': 0.05972521149611567, 'colsample_bytree': 0.4855527670562924, 'subsample': 0.8552526438939708, 'gamma': 0.258589356648955, 'reg_lambda': 2, 'scale_pos_weight': 3, 'eta': 0.19249619395870046, 'min_child_weight': 1.6728287026638167}. Best is trial 159 with value: 0.6776551073814285.\u001b[0m\n",
      "\u001b[32m[I 2022-09-30 20:13:02,121]\u001b[0m Trial 172 finished with value: 0.655991173183939 and parameters: {'max_depth': 3, 'learning_rate': 0.052407006635502074, 'colsample_bytree': 0.49776636975000504, 'subsample': 0.8632406944881229, 'gamma': 0.3106777880913841, 'reg_lambda': 1, 'scale_pos_weight': 3, 'eta': 0.37341549015461584, 'min_child_weight': 3.2250876515764144}. Best is trial 159 with value: 0.6776551073814285.\u001b[0m\n",
      "\u001b[32m[I 2022-09-30 20:13:06,129]\u001b[0m Trial 173 finished with value: 0.6471241624342364 and parameters: {'max_depth': 3, 'learning_rate': 0.0637880322731221, 'colsample_bytree': 0.4713528113190075, 'subsample': 0.8815056627901521, 'gamma': 0.2066943362990948, 'reg_lambda': 3, 'scale_pos_weight': 3, 'eta': 0.5752330997560277, 'min_child_weight': 1.3948174949783654}. Best is trial 159 with value: 0.6776551073814285.\u001b[0m\n",
      "\u001b[32m[I 2022-09-30 20:13:10,189]\u001b[0m Trial 174 finished with value: 0.6509285785648034 and parameters: {'max_depth': 3, 'learning_rate': 0.05684991355225725, 'colsample_bytree': 0.5051166264699681, 'subsample': 0.8500081429189604, 'gamma': 0.2843428538633256, 'reg_lambda': 2, 'scale_pos_weight': 3, 'eta': 0.04899133246799701, 'min_child_weight': 2.003884929727863}. Best is trial 159 with value: 0.6776551073814285.\u001b[0m\n",
      "\u001b[32m[I 2022-09-30 20:13:14,243]\u001b[0m Trial 175 finished with value: 0.6052161613138477 and parameters: {'max_depth': 3, 'learning_rate': 0.06023004931291925, 'colsample_bytree': 0.5182103922364927, 'subsample': 0.8683329709538639, 'gamma': 0.24590320311775446, 'reg_lambda': 1, 'scale_pos_weight': 9, 'eta': 0.2730529106903173, 'min_child_weight': 2.473404680179821}. Best is trial 159 with value: 0.6776551073814285.\u001b[0m\n",
      "\u001b[32m[I 2022-09-30 20:13:18,141]\u001b[0m Trial 176 finished with value: 0.6656151078997631 and parameters: {'max_depth': 3, 'learning_rate': 0.05502783831356358, 'colsample_bytree': 0.45994791786138983, 'subsample': 0.8402843020970566, 'gamma': 0.23228643556963444, 'reg_lambda': 2, 'scale_pos_weight': 3, 'eta': 0.1472551224563962, 'min_child_weight': 3.6160900492904777}. Best is trial 159 with value: 0.6776551073814285.\u001b[0m\n",
      "\u001b[32m[I 2022-09-30 20:13:22,022]\u001b[0m Trial 177 finished with value: 0.6523976424394352 and parameters: {'max_depth': 3, 'learning_rate': 0.05776746326384072, 'colsample_bytree': 0.4584267872483413, 'subsample': 0.8358966178562534, 'gamma': 0.22639061534812263, 'reg_lambda': 1, 'scale_pos_weight': 3, 'eta': 0.07583377748640299, 'min_child_weight': 3.851937495043925}. Best is trial 159 with value: 0.6776551073814285.\u001b[0m\n",
      "\u001b[32m[I 2022-09-30 20:13:25,847]\u001b[0m Trial 178 finished with value: 0.6670839455055477 and parameters: {'max_depth': 3, 'learning_rate': 0.06261360469306357, 'colsample_bytree': 0.4384881123626251, 'subsample': 0.8419347505107593, 'gamma': 0.16842175359794287, 'reg_lambda': 2, 'scale_pos_weight': 3, 'eta': 0.41409602626210196, 'min_child_weight': 3.272018459544427}. Best is trial 159 with value: 0.6776551073814285.\u001b[0m\n",
      "\u001b[32m[I 2022-09-30 20:13:29,580]\u001b[0m Trial 179 finished with value: 0.6446329365579472 and parameters: {'max_depth': 3, 'learning_rate': 0.06897303521396171, 'colsample_bytree': 0.43424389425542465, 'subsample': 0.8286309764656462, 'gamma': 0.17097738259836948, 'reg_lambda': 2, 'scale_pos_weight': 4, 'eta': 0.7046215410273278, 'min_child_weight': 5.767044215143772}. Best is trial 159 with value: 0.6776551073814285.\u001b[0m\n"
     ]
    },
    {
     "name": "stderr",
     "output_type": "stream",
     "text": [
      "\u001b[32m[I 2022-09-30 20:13:33,391]\u001b[0m Trial 180 finished with value: 0.6612790982602303 and parameters: {'max_depth': 3, 'learning_rate': 0.062352057228188165, 'colsample_bytree': 0.4407696148414576, 'subsample': 0.8431865113466683, 'gamma': 0.20432500773925855, 'reg_lambda': 3, 'scale_pos_weight': 2, 'eta': 0.01003593758862901, 'min_child_weight': 3.2271333377339144}. Best is trial 159 with value: 0.6776551073814285.\u001b[0m\n",
      "\u001b[32m[I 2022-09-30 20:13:37,085]\u001b[0m Trial 181 finished with value: 0.6577829727993605 and parameters: {'max_depth': 3, 'learning_rate': 0.05631641986129711, 'colsample_bytree': 0.44852008313565417, 'subsample': 0.8593493019451693, 'gamma': 0.17522697745791876, 'reg_lambda': 2, 'scale_pos_weight': 3, 'eta': 0.42971970663661857, 'min_child_weight': 4.368889247110838}. Best is trial 159 with value: 0.6776551073814285.\u001b[0m\n",
      "\u001b[32m[I 2022-09-30 20:13:40,919]\u001b[0m Trial 182 finished with value: 0.6669853349168943 and parameters: {'max_depth': 3, 'learning_rate': 0.052238835945592914, 'colsample_bytree': 0.4232513632825335, 'subsample': 0.8472922743350652, 'gamma': 0.14153057384752749, 'reg_lambda': 2, 'scale_pos_weight': 3, 'eta': 0.15813736679773682, 'min_child_weight': 2.5883817377574756}. Best is trial 159 with value: 0.6776551073814285.\u001b[0m\n",
      "\u001b[32m[I 2022-09-30 20:13:44,633]\u001b[0m Trial 183 finished with value: 0.6664848275839681 and parameters: {'max_depth': 3, 'learning_rate': 0.05247018302477887, 'colsample_bytree': 0.4234896385458314, 'subsample': 0.8431652334196309, 'gamma': 0.14226782415645925, 'reg_lambda': 2, 'scale_pos_weight': 3, 'eta': 0.14756810982252275, 'min_child_weight': 2.942758291741445}. Best is trial 159 with value: 0.6776551073814285.\u001b[0m\n",
      "\u001b[32m[I 2022-09-30 20:13:48,668]\u001b[0m Trial 184 finished with value: 0.6545644751823887 and parameters: {'max_depth': 3, 'learning_rate': 0.05024958452079403, 'colsample_bytree': 0.4238067338394746, 'subsample': 0.8168291628212475, 'gamma': 0.14154602158255186, 'reg_lambda': 2, 'scale_pos_weight': 3, 'eta': 0.12970533499864778, 'min_child_weight': 3.586598288327345}. Best is trial 159 with value: 0.6776551073814285.\u001b[0m\n",
      "\u001b[32m[I 2022-09-30 20:13:52,417]\u001b[0m Trial 185 finished with value: 0.665911454695894 and parameters: {'max_depth': 3, 'learning_rate': 0.05243963219174731, 'colsample_bytree': 0.4121766197829896, 'subsample': 0.8338066088841257, 'gamma': 0.1544475098696047, 'reg_lambda': 2, 'scale_pos_weight': 3, 'eta': 0.03606655972370978, 'min_child_weight': 2.8943085593012765}. Best is trial 159 with value: 0.6776551073814285.\u001b[0m\n",
      "\u001b[32m[I 2022-09-30 20:13:56,166]\u001b[0m Trial 186 finished with value: 0.659871094837974 and parameters: {'max_depth': 3, 'learning_rate': 0.051796511402336154, 'colsample_bytree': 0.4059203191181128, 'subsample': 0.8326536510469001, 'gamma': 0.1512719347242539, 'reg_lambda': 2, 'scale_pos_weight': 3, 'eta': 0.028860343666502076, 'min_child_weight': 3.034264937621491}. Best is trial 159 with value: 0.6776551073814285.\u001b[0m\n",
      "\u001b[32m[I 2022-09-30 20:13:59,967]\u001b[0m Trial 187 finished with value: 0.6565258753916108 and parameters: {'max_depth': 3, 'learning_rate': 0.053296413139966574, 'colsample_bytree': 0.41784519289047667, 'subsample': 0.8424138896098314, 'gamma': 0.1953317700424964, 'reg_lambda': 2, 'scale_pos_weight': 3, 'eta': 0.039452185582984425, 'min_child_weight': 4.812208579563904}. Best is trial 159 with value: 0.6776551073814285.\u001b[0m\n",
      "\u001b[32m[I 2022-09-30 20:14:03,732]\u001b[0m Trial 188 finished with value: 0.6516029708377848 and parameters: {'max_depth': 3, 'learning_rate': 0.05198295076892447, 'colsample_bytree': 0.4073268225361987, 'subsample': 0.8232600349575354, 'gamma': 0.16044323156082088, 'reg_lambda': 2, 'scale_pos_weight': 3, 'eta': 0.06010903319467455, 'min_child_weight': 3.9291228679483408}. Best is trial 159 with value: 0.6776551073814285.\u001b[0m\n",
      "\u001b[32m[I 2022-09-30 20:14:07,622]\u001b[0m Trial 189 finished with value: 0.6543488276429453 and parameters: {'max_depth': 3, 'learning_rate': 0.05415542929099625, 'colsample_bytree': 0.4289770353505391, 'subsample': 0.8444837150553377, 'gamma': 0.14194513321442764, 'reg_lambda': 2, 'scale_pos_weight': 2, 'eta': 0.09464900191819056, 'min_child_weight': 2.8550379878146575}. Best is trial 159 with value: 0.6776551073814285.\u001b[0m\n",
      "\u001b[32m[I 2022-09-30 20:14:11,452]\u001b[0m Trial 190 finished with value: 0.6524740866626317 and parameters: {'max_depth': 3, 'learning_rate': 0.05047888894783995, 'colsample_bytree': 0.4402508467321142, 'subsample': 0.8505505643722697, 'gamma': 0.21688885291652474, 'reg_lambda': 2, 'scale_pos_weight': 3, 'eta': 0.017516014800752988, 'min_child_weight': 7.8863660641764985}. Best is trial 159 with value: 0.6776551073814285.\u001b[0m\n",
      "\u001b[32m[I 2022-09-30 20:14:15,321]\u001b[0m Trial 191 finished with value: 0.6629531833490536 and parameters: {'max_depth': 3, 'learning_rate': 0.059839826479313726, 'colsample_bytree': 0.4162106044456673, 'subsample': 0.83552908760182, 'gamma': 0.23280038916330686, 'reg_lambda': 2, 'scale_pos_weight': 3, 'eta': 0.15288157523078527, 'min_child_weight': 1.9034898113497516}. Best is trial 159 with value: 0.6776551073814285.\u001b[0m\n",
      "\u001b[32m[I 2022-09-30 20:14:18,996]\u001b[0m Trial 192 finished with value: 0.6295483479694097 and parameters: {'max_depth': 3, 'learning_rate': 0.054753872930455055, 'colsample_bytree': 0.4003106086600511, 'subsample': 0.4860819064952908, 'gamma': 0.18264918966938803, 'reg_lambda': 3, 'scale_pos_weight': 3, 'eta': 0.24483322841827926, 'min_child_weight': 2.409639848192781}. Best is trial 159 with value: 0.6776551073814285.\u001b[0m\n",
      "\u001b[32m[I 2022-09-30 20:14:22,855]\u001b[0m Trial 193 finished with value: 0.6574019164265307 and parameters: {'max_depth': 3, 'learning_rate': 0.058470728646694725, 'colsample_bytree': 0.4247091577865017, 'subsample': 0.8530909155905919, 'gamma': 0.20121460923167614, 'reg_lambda': 2, 'scale_pos_weight': 3, 'eta': 0.1227435138692599, 'min_child_weight': 3.324413460161637}. Best is trial 159 with value: 0.6776551073814285.\u001b[0m\n",
      "\u001b[32m[I 2022-09-30 20:14:26,802]\u001b[0m Trial 194 finished with value: 0.6497117529989699 and parameters: {'max_depth': 3, 'learning_rate': 0.061411630709877686, 'colsample_bytree': 0.4545878318817427, 'subsample': 0.8605366610472275, 'gamma': 0.2688772878985948, 'reg_lambda': 2, 'scale_pos_weight': 3, 'eta': 0.05829997768353188, 'min_child_weight': 2.6914158964757755}. Best is trial 159 with value: 0.6776551073814285.\u001b[0m\n",
      "\u001b[32m[I 2022-09-30 20:14:30,608]\u001b[0m Trial 195 finished with value: 0.6641435529633049 and parameters: {'max_depth': 3, 'learning_rate': 0.053358072872694486, 'colsample_bytree': 0.43807507821338837, 'subsample': 0.8299263471980561, 'gamma': 0.1672853093279045, 'reg_lambda': 2, 'scale_pos_weight': 3, 'eta': 0.16320312617813734, 'min_child_weight': 10.539120021729104}. Best is trial 159 with value: 0.6776551073814285.\u001b[0m\n",
      "\u001b[32m[I 2022-09-30 20:14:34,434]\u001b[0m Trial 196 finished with value: 0.6604928793540461 and parameters: {'max_depth': 3, 'learning_rate': 0.053141802877752144, 'colsample_bytree': 0.4360610734676353, 'subsample': 0.8144517762825766, 'gamma': 0.1040362394065098, 'reg_lambda': 2, 'scale_pos_weight': 3, 'eta': 0.24992493018148562, 'min_child_weight': 5.52649088886703}. Best is trial 159 with value: 0.6776551073814285.\u001b[0m\n",
      "\u001b[32m[I 2022-09-30 20:14:38,131]\u001b[0m Trial 197 finished with value: 0.6598130321457707 and parameters: {'max_depth': 3, 'learning_rate': 0.05032817443661923, 'colsample_bytree': 0.4186003366232334, 'subsample': 0.8285402210811889, 'gamma': 0.1564618389521041, 'reg_lambda': 2, 'scale_pos_weight': 3, 'eta': 0.09450091037085583, 'min_child_weight': 4.336038646773052}. Best is trial 159 with value: 0.6776551073814285.\u001b[0m\n",
      "\u001b[32m[I 2022-09-30 20:14:41,898]\u001b[0m Trial 198 finished with value: 0.636125944271589 and parameters: {'max_depth': 3, 'learning_rate': 0.055659249445578485, 'colsample_bytree': 0.4444005915132589, 'subsample': 0.7986944084873735, 'gamma': 0.17611125450911577, 'reg_lambda': 2, 'scale_pos_weight': 4, 'eta': 0.3019003232988047, 'min_child_weight': 10.3128890815034}. Best is trial 159 with value: 0.6776551073814285.\u001b[0m\n",
      "\u001b[32m[I 2022-09-30 20:14:45,656]\u001b[0m Trial 199 finished with value: 0.6368270628578317 and parameters: {'max_depth': 3, 'learning_rate': 0.05756805439217477, 'colsample_bytree': 0.4298073669200002, 'subsample': 0.8381313930348662, 'gamma': 0.12825828317741678, 'reg_lambda': 2, 'scale_pos_weight': 3, 'eta': 0.035651208540920735, 'min_child_weight': 16.740244776768325}. Best is trial 159 with value: 0.6776551073814285.\u001b[0m\n"
     ]
    }
   ],
   "source": [
    "study = optuna.create_study(direction='maximize',study_name='label_generator_tuning')\n",
    "study.optimize(objective,n_trials=200)"
   ]
  },
  {
   "cell_type": "code",
   "execution_count": 84,
   "id": "9db7e651",
   "metadata": {},
   "outputs": [
    {
     "data": {
      "text/plain": [
       "Pipeline(steps=[('preprocessor',\n",
       "                 ColumnTransformer(transformers=[('TFIDIF_title',\n",
       "                                                  TfidfVectorizer(),\n",
       "                                                  'title_x'),\n",
       "                                                 ('TFIDIF_desc',\n",
       "                                                  TfidfVectorizer(),\n",
       "                                                  'description'),\n",
       "                                                 ('TFIDIF_comment',\n",
       "                                                  TfidfVectorizer(),\n",
       "                                                  'comment')])),\n",
       "                ('classifier',\n",
       "                 XGBClassifier(base_score=0.5, booster='gbtree', callbacks=None,\n",
       "                               colsample_bylevel=1, colsample_bynode=1,\n",
       "                               colsample_bytree=0.4962015462...\n",
       "                               grow_policy='depthwise', importance_type=None,\n",
       "                               interaction_constraints='',\n",
       "                               learning_rate=0.06504656351924842, max_bin=256,\n",
       "                               max_cat_to_onehot=4, max_delta_step=0,\n",
       "                               max_depth=3, max_leaves=0,\n",
       "                               min_child_weight=3.937397952768958, missing=nan,\n",
       "                               monotone_constraints='()', n_estimators=100,\n",
       "                               n_jobs=0, num_parallel_tree=1, predictor='auto',\n",
       "                               random_state=0, reg_alpha=0, ...))])"
      ]
     },
     "execution_count": 84,
     "metadata": {},
     "output_type": "execute_result"
    }
   ],
   "source": [
    "X=full_labels[['title_x','channel_label','description','comment','dislikeCount','favoriteCount','likeCount','viewCount']]\n",
    "X.reset_index(drop=True, inplace=True)\n",
    "y=full_labels['label']\n",
    "\n",
    "preprocessor = ColumnTransformer(transformers = [('TFIDIF_title', TfidfVectorizer(),'title_x'),\n",
    "                                                     ('TFIDIF_desc', TfidfVectorizer(),'description'),\n",
    "                                                     ('TFIDIF_comment', TfidfVectorizer(),'comment')])\n",
    "\n",
    "parameters=study.best_trial.params\n",
    "\n",
    "pipeline = Pipeline([('preprocessor', preprocessor),\n",
    "    (\"classifier\", xgb.XGBClassifier(**parameters))\n",
    "    ])\n",
    "\n",
    "pipeline.fit(X,y)"
   ]
  },
  {
   "cell_type": "code",
   "execution_count": 87,
   "id": "cdfcdeff",
   "metadata": {},
   "outputs": [
    {
     "data": {
      "image/png": "[encoded data removed]",
      "text/plain": [
       "<Figure size 432x288 with 1 Axes>"
      ]
     },
     "metadata": {
      "needs_background": "light"
     },
     "output_type": "display_data"
    }
   ],
   "source": [
    "labels_large['comment']=labels_large[['comment_0','comment_1', 'comment_2', 'comment_3', 'comment_4', 'comment_5', 'comment_6', 'comment_7', 'comment_8', 'comment_9']].agg(' '.join, axis=1)\n",
    "labels_large=labels_large.rename({'title':'title_x'},axis=1)\n",
    "X_large=labels_large[['title_x','channel_label','description','comment','dislikeCount','favoriteCount','likeCount','viewCount']]\n",
    "plt.hist([x[0] for x in pipeline.predict_proba(X_large)],bins=95)\n",
    "y_pred=pipeline.predict(X_large)\n",
    "y_pred_df=pd.DataFrame({'ID':labels_large['ID'],'label':y_pred})"
   ]
  },
  {
   "cell_type": "code",
   "execution_count": 88,
   "id": "c9dc12b0",
   "metadata": {},
   "outputs": [],
   "source": [
    "def get_best_label(ID):\n",
    "    if ID in list(full_labels['ID']):\n",
    "        return full_labels[full_labels['ID']==ID]['label'].iloc[0]\n",
    "    else:\n",
    "        return y_pred_df[y_pred_df['ID']==ID]['label'].iloc[0]"
   ]
  },
  {
   "cell_type": "code",
   "execution_count": 89,
   "id": "db0848cc",
   "metadata": {},
   "outputs": [],
   "source": [
    "y_pred_df['best_label']=y_pred_df['ID'].apply(get_best_label)"
   ]
  },
  {
   "cell_type": "code",
   "execution_count": 109,
   "id": "af630259",
   "metadata": {},
   "outputs": [],
   "source": [
    "# Create directories for the labeled data\n",
    "class_names = [1,0]\n",
    "\n",
    "#creating subfolders\n",
    "for i in class_names:\n",
    "    os.makedirs(os.path.join('..\\\\data\\\\interim\\\\thumbnails\\\\final_labels_training\\\\', str(i)))\n",
    "    os.makedirs(os.path.join('..\\\\data\\\\interim\\\\thumbnails\\\\final_labels_validation\\\\', str(i)))\n",
    "\n",
    "#moving the image files to their respective categories\n",
    "for i in class_names: # Category Name\n",
    "    for ID in list(y_pred_df[y_pred_df['best_label']==i]['ID']): # Image Id\n",
    "        if (ID in list(full_labels['ID'])):\n",
    "            if (np.random.random()>0.6):\n",
    "                get_image = os.path.join('..\\\\data\\\\raw\\\\thumbnails\\\\thumbnails\\\\', ID+'.jpg') # Path to Images \n",
    "                copy_image_to_cat = shutil.copy(get_image, '..\\\\data\\\\interim\\\\thumbnails\\\\final_labels_validation\\\\'+str(i))\n",
    "            else:\n",
    "                get_image = os.path.join('..\\\\data\\\\raw\\\\thumbnails\\\\thumbnails\\\\', ID+'.jpg') # Path to Images \n",
    "                copy_image_to_cat = shutil.copy(get_image, '..\\\\data\\\\interim\\\\thumbnails\\\\final_labels_training\\\\'+str(i))\n",
    "        else:\n",
    "            get_image = os.path.join('..\\\\data\\\\raw\\\\thumbnails\\\\thumbnails\\\\', ID+'.jpg') # Path to Images \n",
    "            copy_image_to_cat = shutil.copy(get_image, '..\\\\data\\\\interim\\\\thumbnails\\\\final_labels_training\\\\'+str(i))"
   ]
  },
  {
   "cell_type": "code",
   "execution_count": 90,
   "id": "33149686",
   "metadata": {},
   "outputs": [
    {
     "name": "stdout",
     "output_type": "stream",
     "text": [
      "Found 8651 files belonging to 2 classes.\n",
      "Found 336 files belonging to 2 classes.\n"
     ]
    }
   ],
   "source": [
    "train_ds_final=image_dataset_from_directory(\n",
    "    '..\\\\data\\\\interim\\\\thumbnails\\\\final_labels_training\\\\',\n",
    "    labels='inferred',\n",
    "    label_mode='binary',\n",
    "    color_mode='rgb',\n",
    "    batch_size=32,\n",
    "    image_size=(128, 128),\n",
    "    shuffle=True,\n",
    "    seed=42069,\n",
    "    interpolation='bilinear',\n",
    "    follow_links=False,\n",
    "    crop_to_aspect_ratio=False,\n",
    ")\n",
    "valid_ds_final=image_dataset_from_directory(\n",
    "    '..\\\\data\\\\interim\\\\thumbnails\\\\final_labels_validation\\\\',\n",
    "    labels='inferred',\n",
    "    label_mode='binary',\n",
    "    color_mode='rgb',\n",
    "    batch_size=32,\n",
    "    image_size=(128, 128),\n",
    "    shuffle=True,\n",
    "    seed=42069,\n",
    "    interpolation='bilinear',\n",
    "    follow_links=False,\n",
    "    crop_to_aspect_ratio=False,\n",
    ")"
   ]
  },
  {
   "cell_type": "code",
   "execution_count": 94,
   "id": "f52ef944",
   "metadata": {},
   "outputs": [
    {
     "name": "stdout",
     "output_type": "stream",
     "text": [
      "Epoch 1/10\n",
      "271/271 [==============================] - 260s 957ms/step - loss: 1.1757 - get_f1: 0.5700 - val_loss: 0.6171 - val_get_f1: 0.5470\n",
      "Epoch 2/10\n",
      "271/271 [==============================] - 260s 961ms/step - loss: 0.6039 - get_f1: 0.6427 - val_loss: 0.6132 - val_get_f1: 0.5511\n",
      "Epoch 3/10\n",
      "271/271 [==============================] - 243s 897ms/step - loss: 0.5774 - get_f1: 0.6679 - val_loss: 0.6076 - val_get_f1: 0.5493\n",
      "Epoch 4/10\n",
      "271/271 [==============================] - 287s 1s/step - loss: 0.5632 - get_f1: 0.6781 - val_loss: 0.6060 - val_get_f1: 0.5342\n",
      "Epoch 5/10\n",
      "271/271 [==============================] - 273s 1s/step - loss: 0.5463 - get_f1: 0.6863 - val_loss: 0.5910 - val_get_f1: 0.5496\n",
      "Epoch 6/10\n",
      "271/271 [==============================] - 287s 1s/step - loss: 0.5331 - get_f1: 0.6967 - val_loss: 0.6059 - val_get_f1: 0.5644\n",
      "Epoch 7/10\n",
      "271/271 [==============================] - 258s 951ms/step - loss: 0.5347 - get_f1: 0.6963 - val_loss: 0.6175 - val_get_f1: 0.5704\n",
      "Epoch 8/10\n",
      "271/271 [==============================] - 240s 884ms/step - loss: 0.5181 - get_f1: 0.7061 - val_loss: 0.6051 - val_get_f1: 0.5286\n",
      "Epoch 9/10\n",
      "271/271 [==============================] - 360s 1s/step - loss: 0.5121 - get_f1: 0.7145 - val_loss: 0.6146 - val_get_f1: 0.5784\n",
      "Epoch 10/10\n",
      "271/271 [==============================] - 281s 1s/step - loss: 0.5111 - get_f1: 0.7156 - val_loss: 0.5993 - val_get_f1: 0.5607\n"
     ]
    }
   ],
   "source": [
    "history_big=model.fit(train_ds_final, epochs=10, validation_data=valid_ds_final)"
   ]
  },
  {
   "cell_type": "code",
   "execution_count": 4,
   "id": "87fe6ce6",
   "metadata": {},
   "outputs": [],
   "source": [
    "class CustomModel(keras.Model):\n",
    "    def train_step(self, data):\n",
    "        x, y = data\n",
    "        _len = y.shape[0]\n",
    "        _alpha = alpha\n",
    "        _idx = math.floor(_len*_alpha)\n",
    "        # forward for get loss from every samples\n",
    "        y_pred = self(x, training=False)  # Forward pass\n",
    "        loss_ITML = keras.losses.binary_crossentropy(y, y_pred)\n",
    "        loss_ITML_np = loss_ITML.numpy()\n",
    "        argsort = np.argsort(loss_ITML_np)\n",
    "        # get new training data\n",
    "        x, y = tf.gather(x, argsort[:_idx]), tf.gather(y, argsort[:_idx])\n",
    "        with tf.GradientTape() as tape:\n",
    "            y_pred = self(x, training=True)  # Forward pass\n",
    "           # Compute the loss value\n",
    "           # (the loss function is configured in `compile()`)\n",
    "            loss = self.compiled_loss(y, y_pred, regularization_losses=self.losses)\n",
    "        # Compute gradients\n",
    "        trainable_vars = self.trainable_variables\n",
    "        gradients = tape.gradient(loss, trainable_vars)\n",
    "        # Update weights\n",
    "        self.optimizer.apply_gradients(zip(gradients, trainable_vars))\n",
    "        # Update metrics (includes the metric that tracks the loss)\n",
    "        self.compiled_metrics.update_state(y, y_pred)\n",
    "        # Return a dict mapping metric names to current value\n",
    "        return {m.name: m.result() for m in self.metrics}"
   ]
  },
  {
   "cell_type": "code",
   "execution_count": 13,
   "id": "bd191920",
   "metadata": {},
   "outputs": [
    {
     "name": "stdout",
     "output_type": "stream",
     "text": [
      "20/20 [==============================] - 153s 8s/step - loss: 1.4885 - get_f1: 0.8500 - val_loss: 1.8748 - val_get_f1: 0.7315\n"
     ]
    }
   ],
   "source": [
    "# does trimming high-loss labels improve the performance, even if the training is just being done on the original dataset?\n",
    "# This gives us some idea of how noisy the mechanical turk generated labels are!\n",
    "\n",
    "new_input = Input(shape=(128, 128, 3))\n",
    "base_model_trimmer = VGG19(include_top=False, input_tensor=new_input,weights='imagenet')\n",
    "\n",
    "x = base_model_trimmer.output\n",
    "x = GlobalAveragePooling2D()(x)\n",
    "# let's add a fully-connected layer\n",
    "x = Dropout(0.2)(x)\n",
    "x = Dense(64, activation='relu')(x)\n",
    "x = Dropout(0.4)(x)\n",
    "# and a logistic layer -- let's say we have 2 classes\n",
    "predictions_trimmed = Dense(1, activation='sigmoid')(x)\n",
    "\n",
    "# first: train only the top layers (which were randomly initialized)\n",
    "# i.e. freeze all convolutional InceptionV3 layers\n",
    "for layer in base_model_trimmer.layers:\n",
    "    layer.trainable = False\n",
    "\n",
    "model_trimmed = CustomModel(new_input, predictions_trimmed)    \n",
    "\n",
    "# compile the model (should be done *after* setting layers to non-trainable)\n",
    "model_trimmed.compile(optimizer=keras.optimizers.Adam(),\n",
    "              loss=keras.losses.BinaryCrossentropy(from_logits=False),\n",
    "              metrics=[get_f1],run_eagerly=True)\n",
    "\n",
    "mystery=model_trimmed.fit(trains_ds, epochs=1, validation_data=valid_ds)"
   ]
  },
  {
   "cell_type": "code",
   "execution_count": 32,
   "id": "b659c410",
   "metadata": {},
   "outputs": [],
   "source": [
    "def best_f1_for_alpha():\n",
    "    new_input = Input(shape=(128, 128, 3))\n",
    "    base_model_trimmer = VGG19(include_top=False, input_tensor=new_input,weights='imagenet')\n",
    "\n",
    "    x = base_model_trimmer.output\n",
    "    x = GlobalAveragePooling2D()(x)\n",
    "    # let's add a fully-connected layer\n",
    "    x = Dropout(0.2)(x)\n",
    "    x = Dense(64, activation='relu')(x)\n",
    "    x = Dropout(0.4)(x)\n",
    "    # and a logistic layer -- let's say we have 2 classes\n",
    "    predictions_trimmed = Dense(1, activation='sigmoid')(x)\n",
    "\n",
    "    # first: train only the top layers (which were randomly initialized)\n",
    "    # i.e. freeze all convolutional InceptionV3 layers\n",
    "    for layer in base_model_trimmer.layers:\n",
    "        layer.trainable = False\n",
    "\n",
    "    model_trimmed = CustomModel(new_input, predictions_trimmed)    \n",
    "\n",
    "    # compile the model (should be done *after* setting layers to non-trainable)\n",
    "    model_trimmed.compile(optimizer=keras.optimizers.Adam(),\n",
    "                  loss=keras.losses.BinaryCrossentropy(from_logits=False),\n",
    "                  metrics=[get_f1],run_eagerly=True)\n",
    "\n",
    "    mystery=model_trimmed.fit(trains_ds, epochs=5, validation_data=valid_ds)\n",
    "    return max(mystery.history['val_get_f1'])"
   ]
  },
  {
   "cell_type": "code",
   "execution_count": 27,
   "id": "2bf0da0f",
   "metadata": {},
   "outputs": [],
   "source": [
    "alpha_log=[]\n",
    "f1_log=[]\n",
    "for x in np.linspace(0.5,1,11):\n",
    "    alpha=x\n",
    "    alpha_log.append(alpha)\n",
    "    f1_log.append(best_f1_for_alpha())"
   ]
  },
  {
   "cell_type": "code",
   "execution_count": 31,
   "id": "5d55ac49",
   "metadata": {},
   "outputs": [
    {
     "data": {
      "image/png": "[encoded data removed]",
      "text/plain": [
       "<Figure size 432x288 with 1 Axes>"
      ]
     },
     "metadata": {
      "needs_background": "light"
     },
     "output_type": "display_data"
    }
   ],
   "source": [
    "plt.plot(alpha_log,f1_log)\n",
    "plt.xlabel(\"alpha\")\n",
    "plt.ylabel(\"F1 score\")\n",
    "plt.show()"
   ]
  },
  {
   "cell_type": "code",
   "execution_count": 33,
   "id": "117079ce",
   "metadata": {},
   "outputs": [
    {
     "name": "stdout",
     "output_type": "stream",
     "text": [
      "Epoch 1/5\n",
      "20/20 [==============================] - 114s 6s/step - loss: 1.4422 - get_f1: 0.9228 - val_loss: 9.2703 - val_get_f1: 0.8228\n",
      "Epoch 2/5\n",
      "20/20 [==============================] - 144s 7s/step - loss: 0.6393 - get_f1: 0.9697 - val_loss: 4.9926 - val_get_f1: 0.8222\n",
      "Epoch 3/5\n",
      "20/20 [==============================] - 145s 7s/step - loss: 0.5720 - get_f1: 0.9520 - val_loss: 5.0607 - val_get_f1: 0.8188\n",
      "Epoch 4/5\n",
      "20/20 [==============================] - 120s 6s/step - loss: 0.3813 - get_f1: 0.9736 - val_loss: 4.5071 - val_get_f1: 0.8190\n",
      "Epoch 5/5\n",
      "20/20 [==============================] - 120s 6s/step - loss: 0.3024 - get_f1: 0.9643 - val_loss: 3.4112 - val_get_f1: 0.8117\n",
      "Epoch 1/5\n",
      "20/20 [==============================] - 131s 7s/step - loss: 1.6123 - get_f1: 0.7908 - val_loss: 5.7539 - val_get_f1: 0.8216\n",
      "Epoch 2/5\n",
      "20/20 [==============================] - 135s 7s/step - loss: 0.6875 - get_f1: 0.9542 - val_loss: 2.8723 - val_get_f1: 0.8224\n",
      "Epoch 3/5\n",
      "20/20 [==============================] - 140s 7s/step - loss: 0.6510 - get_f1: 0.9174 - val_loss: 1.9979 - val_get_f1: 0.8184\n",
      "Epoch 4/5\n",
      "20/20 [==============================] - 125s 6s/step - loss: 0.4100 - get_f1: 0.9504 - val_loss: 2.2784 - val_get_f1: 0.8118\n",
      "Epoch 5/5\n",
      "20/20 [==============================] - 125s 6s/step - loss: 0.3187 - get_f1: 0.9430 - val_loss: 1.6914 - val_get_f1: 0.8114\n",
      "Epoch 1/5\n",
      "20/20 [==============================] - 137s 7s/step - loss: 1.2337 - get_f1: 0.9236 - val_loss: 2.7476 - val_get_f1: 0.7764\n",
      "Epoch 2/5\n",
      "20/20 [==============================] - 131s 7s/step - loss: 1.2738 - get_f1: 0.9067 - val_loss: 3.2490 - val_get_f1: 0.8198\n",
      "Epoch 3/5\n",
      "20/20 [==============================] - 129s 6s/step - loss: 0.8972 - get_f1: 0.8975 - val_loss: 1.6949 - val_get_f1: 0.7612\n",
      "Epoch 4/5\n",
      "20/20 [==============================] - 136s 7s/step - loss: 0.5545 - get_f1: 0.9186 - val_loss: 2.2650 - val_get_f1: 0.8192\n",
      "Epoch 5/5\n",
      "20/20 [==============================] - 130s 7s/step - loss: 0.3973 - get_f1: 0.9473 - val_loss: 1.9019 - val_get_f1: 0.8053\n",
      "Epoch 1/5\n",
      "20/20 [==============================] - 126s 6s/step - loss: 1.9224 - get_f1: 0.8990 - val_loss: 4.0310 - val_get_f1: 0.8242\n",
      "Epoch 2/5\n",
      "20/20 [==============================] - 135s 7s/step - loss: 0.8463 - get_f1: 0.9149 - val_loss: 3.0538 - val_get_f1: 0.8193\n",
      "Epoch 3/5\n",
      "20/20 [==============================] - 145s 7s/step - loss: 0.6188 - get_f1: 0.9333 - val_loss: 2.4902 - val_get_f1: 0.8245\n",
      "Epoch 4/5\n",
      "20/20 [==============================] - 135s 7s/step - loss: 0.5676 - get_f1: 0.9361 - val_loss: 1.3810 - val_get_f1: 0.8306\n",
      "Epoch 5/5\n",
      "20/20 [==============================] - 150s 8s/step - loss: 0.4800 - get_f1: 0.9256 - val_loss: 1.6807 - val_get_f1: 0.8226\n",
      "Epoch 1/5\n",
      "20/20 [==============================] - 137s 7s/step - loss: 1.9070 - get_f1: 0.8831 - val_loss: 2.7207 - val_get_f1: 0.7999\n",
      "Epoch 2/5\n",
      "20/20 [==============================] - 136s 7s/step - loss: 1.0397 - get_f1: 0.8517 - val_loss: 1.7623 - val_get_f1: 0.8009\n",
      "Epoch 3/5\n",
      "20/20 [==============================] - 137s 7s/step - loss: 0.7273 - get_f1: 0.8990 - val_loss: 1.7948 - val_get_f1: 0.8159\n",
      "Epoch 4/5\n",
      "20/20 [==============================] - 140s 7s/step - loss: 0.5197 - get_f1: 0.9169 - val_loss: 1.2585 - val_get_f1: 0.7922\n",
      "Epoch 5/5\n",
      "20/20 [==============================] - 153s 8s/step - loss: 0.4228 - get_f1: 0.9126 - val_loss: 1.0520 - val_get_f1: 0.8005\n",
      "Epoch 1/5\n",
      "20/20 [==============================] - 133s 7s/step - loss: 1.7710 - get_f1: 0.8327 - val_loss: 2.4404 - val_get_f1: 0.8141\n",
      "Epoch 2/5\n",
      "20/20 [==============================] - 146s 7s/step - loss: 1.0907 - get_f1: 0.8684 - val_loss: 1.9044 - val_get_f1: 0.8238\n",
      "Epoch 3/5\n",
      "20/20 [==============================] - 145s 7s/step - loss: 0.8514 - get_f1: 0.9011 - val_loss: 1.6286 - val_get_f1: 0.8207\n",
      "Epoch 4/5\n",
      "20/20 [==============================] - 133s 7s/step - loss: 0.6935 - get_f1: 0.8898 - val_loss: 1.6695 - val_get_f1: 0.8197\n",
      "Epoch 5/5\n",
      "20/20 [==============================] - 156s 8s/step - loss: 0.5908 - get_f1: 0.9117 - val_loss: 1.5205 - val_get_f1: 0.8270\n",
      "Epoch 1/5\n",
      "20/20 [==============================] - 138s 7s/step - loss: 2.0204 - get_f1: 0.8173 - val_loss: 1.4239 - val_get_f1: 0.7923\n",
      "Epoch 2/5\n",
      "20/20 [==============================] - 147s 7s/step - loss: 1.2488 - get_f1: 0.8358 - val_loss: 1.0613 - val_get_f1: 0.7993\n",
      "Epoch 3/5\n",
      "20/20 [==============================] - 150s 8s/step - loss: 0.9971 - get_f1: 0.8220 - val_loss: 0.8267 - val_get_f1: 0.8016\n",
      "Epoch 4/5\n",
      "20/20 [==============================] - 152s 8s/step - loss: 0.6514 - get_f1: 0.8614 - val_loss: 0.8184 - val_get_f1: 0.8122\n",
      "Epoch 5/5\n",
      "20/20 [==============================] - 144s 7s/step - loss: 0.4931 - get_f1: 0.8862 - val_loss: 0.7819 - val_get_f1: 0.8281\n",
      "Epoch 1/5\n",
      "20/20 [==============================] - 154s 8s/step - loss: 2.7631 - get_f1: 0.7331 - val_loss: 1.5842 - val_get_f1: 0.8190\n",
      "Epoch 2/5\n",
      "20/20 [==============================] - 144s 7s/step - loss: 1.4316 - get_f1: 0.8327 - val_loss: 1.0008 - val_get_f1: 0.8140\n",
      "Epoch 3/5\n",
      "20/20 [==============================] - 165s 8s/step - loss: 0.9570 - get_f1: 0.8403 - val_loss: 1.1036 - val_get_f1: 0.8232\n",
      "Epoch 4/5\n",
      "20/20 [==============================] - 141s 7s/step - loss: 0.6721 - get_f1: 0.8529 - val_loss: 0.8461 - val_get_f1: 0.8222\n",
      "Epoch 5/5\n",
      "20/20 [==============================] - 147s 7s/step - loss: 0.5892 - get_f1: 0.8707 - val_loss: 0.8663 - val_get_f1: 0.8302\n",
      "Epoch 1/5\n",
      "20/20 [==============================] - 157s 8s/step - loss: 1.8897 - get_f1: 0.8031 - val_loss: 1.8040 - val_get_f1: 0.8214\n",
      "Epoch 2/5\n",
      "20/20 [==============================] - 157s 8s/step - loss: 1.0936 - get_f1: 0.8362 - val_loss: 0.9528 - val_get_f1: 0.7865\n",
      "Epoch 3/5\n",
      "20/20 [==============================] - 152s 8s/step - loss: 0.7730 - get_f1: 0.8432 - val_loss: 0.8541 - val_get_f1: 0.8264\n",
      "Epoch 4/5\n",
      "20/20 [==============================] - 149s 7s/step - loss: 0.6215 - get_f1: 0.8355 - val_loss: 0.7606 - val_get_f1: 0.8116\n",
      "Epoch 5/5\n",
      "20/20 [==============================] - 157s 8s/step - loss: 0.4686 - get_f1: 0.8823 - val_loss: 0.7415 - val_get_f1: 0.8227\n",
      "Epoch 1/5\n",
      "20/20 [==============================] - 153s 8s/step - loss: 2.6342 - get_f1: 0.7398 - val_loss: 1.4927 - val_get_f1: 0.7781\n",
      "Epoch 2/5\n",
      "20/20 [==============================] - 147s 7s/step - loss: 1.3697 - get_f1: 0.7885 - val_loss: 0.9030 - val_get_f1: 0.7570\n",
      "Epoch 3/5\n",
      "20/20 [==============================] - 149s 7s/step - loss: 0.8052 - get_f1: 0.8310 - val_loss: 0.7529 - val_get_f1: 0.7962\n",
      "Epoch 4/5\n",
      "20/20 [==============================] - 152s 8s/step - loss: 0.7152 - get_f1: 0.8198 - val_loss: 0.6663 - val_get_f1: 0.7500\n",
      "Epoch 5/5\n",
      "20/20 [==============================] - 149s 7s/step - loss: 0.5475 - get_f1: 0.8364 - val_loss: 0.6376 - val_get_f1: 0.7809\n",
      "Epoch 1/5\n",
      "20/20 [==============================] - 167s 8s/step - loss: 2.6085 - get_f1: 0.7399 - val_loss: 1.9859 - val_get_f1: 0.7189\n",
      "Epoch 2/5\n",
      "20/20 [==============================] - 157s 8s/step - loss: 1.7176 - get_f1: 0.7769 - val_loss: 1.8141 - val_get_f1: 0.7847\n",
      "Epoch 3/5\n",
      "20/20 [==============================] - 169s 8s/step - loss: 1.2070 - get_f1: 0.7823 - val_loss: 1.3368 - val_get_f1: 0.7908\n",
      "Epoch 4/5\n",
      "20/20 [==============================] - 172s 9s/step - loss: 0.8488 - get_f1: 0.8298 - val_loss: 1.1430 - val_get_f1: 0.7885\n",
      "Epoch 5/5\n",
      "20/20 [==============================] - 160s 8s/step - loss: 0.7175 - get_f1: 0.8145 - val_loss: 0.9266 - val_get_f1: 0.7396\n"
     ]
    },
    {
     "data": {
      "image/png": "[encoded data removed]",
      "text/plain": [
       "<Figure size 432x288 with 1 Axes>"
      ]
     },
     "metadata": {
      "needs_background": "light"
     },
     "output_type": "display_data"
    }
   ],
   "source": [
    "alpha_log_fine=[]\n",
    "f1_log_fine=[]\n",
    "for x in np.linspace(0.7,.95,11):\n",
    "    alpha=x\n",
    "    alpha_log_fine.append(alpha)\n",
    "    f1_log_fine.append(best_f1_for_alpha())\n",
    "    \n",
    "plt.plot(alpha_log_fine,f1_log_fine)\n",
    "plt.xlabel(\"alpha\")\n",
    "plt.ylabel(\"F1 score\")\n",
    "plt.show()"
   ]
  },
  {
   "cell_type": "code",
   "execution_count": 124,
   "id": "ffcaf84a",
   "metadata": {},
   "outputs": [],
   "source": [
    "from sklearn.ensemble import RandomForestClassifier\n",
    "\n",
    "def objective_forest(trial):\n",
    "    \n",
    "    X=full_labels[['title_x','channel_label','description','comment','dislikeCount','favoriteCount','likeCount','viewCount']]\n",
    "    X.reset_index(drop=True, inplace=True)\n",
    "    y=full_labels['label']\n",
    "    \n",
    "    preprocessor = ColumnTransformer(transformers = [('TFIDIF_title', TfidfVectorizer(),'title_x'),\n",
    "                                                     ('TFIDIF_desc', TfidfVectorizer(),'description'),\n",
    "                                                     ('TFIDIF_comment', TfidfVectorizer(),'comment')])\n",
    "    \n",
    "    parameter = {\n",
    "      'n_estimators':trial.suggest_int('n_estimators',2,2000),\n",
    "      'max_depth':trial.suggest_int('max_depth', 2, 64), # show integer parameters between 3 and 5 for depth\n",
    "      'class_weight':trial.suggest_categorical('class_weight',[None,'balanced']), # set a log distribution between 0.05 and 0.5 for learning rate\n",
    "    }\n",
    "    \n",
    "    pipeline = Pipeline([('preprocessor', preprocessor),\n",
    "    (\"classifier\", RandomForestClassifier(**parameter))\n",
    "    ])\n",
    "\n",
    "    return np.mean(cross_val_score(pipeline, X, y,scoring='precision',cv=10))\n"
   ]
  },
  {
   "cell_type": "code",
   "execution_count": 125,
   "id": "0a95a16c",
   "metadata": {},
   "outputs": [
    {
     "name": "stderr",
     "output_type": "stream",
     "text": [
      "\u001b[32m[I 2022-09-30 23:57:00,564]\u001b[0m A new study created in memory with name: label_generator_tuning_forest\u001b[0m\n",
      "\u001b[32m[I 2022-09-30 23:57:34,798]\u001b[0m Trial 0 finished with value: 0.7235334325117607 and parameters: {'n_estimators': 1569, 'max_depth': 31, 'class_weight': 'balanced'}. Best is trial 0 with value: 0.7235334325117607.\u001b[0m\n",
      "\u001b[32m[I 2022-09-30 23:57:38,336]\u001b[0m Trial 1 finished with value: 0.6708850708115415 and parameters: {'n_estimators': 112, 'max_depth': 44, 'class_weight': 'balanced'}. Best is trial 0 with value: 0.7235334325117607.\u001b[0m\n",
      "\u001b[32m[I 2022-09-30 23:57:45,952]\u001b[0m Trial 2 finished with value: 0.7109521446905347 and parameters: {'n_estimators': 289, 'max_depth': 36, 'class_weight': 'balanced'}. Best is trial 0 with value: 0.7235334325117607.\u001b[0m\n",
      "\u001b[32m[I 2022-09-30 23:58:02,431]\u001b[0m Trial 3 finished with value: 0.7591036088094911 and parameters: {'n_estimators': 1014, 'max_depth': 14, 'class_weight': None}. Best is trial 3 with value: 0.7591036088094911.\u001b[0m\n",
      "\u001b[32m[I 2022-09-30 23:58:26,531]\u001b[0m Trial 4 finished with value: 0.7500754663293364 and parameters: {'n_estimators': 1018, 'max_depth': 64, 'class_weight': None}. Best is trial 3 with value: 0.7591036088094911.\u001b[0m\n",
      "\u001b[32m[I 2022-09-30 23:58:55,781]\u001b[0m Trial 5 finished with value: 0.7208943928448572 and parameters: {'n_estimators': 1260, 'max_depth': 29, 'class_weight': 'balanced'}. Best is trial 3 with value: 0.7591036088094911.\u001b[0m\n",
      "\u001b[32m[I 2022-09-30 23:59:21,536]\u001b[0m Trial 6 finished with value: 0.714213942232518 and parameters: {'n_estimators': 1106, 'max_depth': 63, 'class_weight': 'balanced'}. Best is trial 3 with value: 0.7591036088094911.\u001b[0m\n",
      "\u001b[32m[I 2022-09-30 23:59:44,379]\u001b[0m Trial 7 finished with value: 0.6976111848248071 and parameters: {'n_estimators': 1210, 'max_depth': 20, 'class_weight': 'balanced'}. Best is trial 3 with value: 0.7591036088094911.\u001b[0m\n",
      "\u001b[32m[I 2022-10-01 00:00:13,047]\u001b[0m Trial 8 finished with value: 0.7500607235901353 and parameters: {'n_estimators': 1275, 'max_depth': 41, 'class_weight': None}. Best is trial 3 with value: 0.7591036088094911.\u001b[0m\n",
      "\u001b[32m[I 2022-10-01 00:00:21,833]\u001b[0m Trial 9 finished with value: 0.6443255020841228 and parameters: {'n_estimators': 891, 'max_depth': 5, 'class_weight': 'balanced'}. Best is trial 3 with value: 0.7591036088094911.\u001b[0m\n",
      "C:\\Users\\Jack_Wolfgramm\\anaconda3\\lib\\site-packages\\sklearn\\metrics\\_classification.py:1318: UndefinedMetricWarning: Precision is ill-defined and being set to 0.0 due to no predicted samples. Use `zero_division` parameter to control this behavior.\n",
      "  _warn_prf(average, modifier, msg_start, len(result))\n",
      "C:\\Users\\Jack_Wolfgramm\\anaconda3\\lib\\site-packages\\sklearn\\metrics\\_classification.py:1318: UndefinedMetricWarning: Precision is ill-defined and being set to 0.0 due to no predicted samples. Use `zero_division` parameter to control this behavior.\n",
      "  _warn_prf(average, modifier, msg_start, len(result))\n",
      "C:\\Users\\Jack_Wolfgramm\\anaconda3\\lib\\site-packages\\sklearn\\metrics\\_classification.py:1318: UndefinedMetricWarning: Precision is ill-defined and being set to 0.0 due to no predicted samples. Use `zero_division` parameter to control this behavior.\n",
      "  _warn_prf(average, modifier, msg_start, len(result))\n",
      "C:\\Users\\Jack_Wolfgramm\\anaconda3\\lib\\site-packages\\sklearn\\metrics\\_classification.py:1318: UndefinedMetricWarning: Precision is ill-defined and being set to 0.0 due to no predicted samples. Use `zero_division` parameter to control this behavior.\n",
      "  _warn_prf(average, modifier, msg_start, len(result))\n",
      "C:\\Users\\Jack_Wolfgramm\\anaconda3\\lib\\site-packages\\sklearn\\metrics\\_classification.py:1318: UndefinedMetricWarning: Precision is ill-defined and being set to 0.0 due to no predicted samples. Use `zero_division` parameter to control this behavior.\n",
      "  _warn_prf(average, modifier, msg_start, len(result))\n",
      "C:\\Users\\Jack_Wolfgramm\\anaconda3\\lib\\site-packages\\sklearn\\metrics\\_classification.py:1318: UndefinedMetricWarning: Precision is ill-defined and being set to 0.0 due to no predicted samples. Use `zero_division` parameter to control this behavior.\n",
      "  _warn_prf(average, modifier, msg_start, len(result))\n",
      "\u001b[32m[I 2022-10-01 00:00:37,714]\u001b[0m Trial 10 finished with value: 0.35 and parameters: {'n_estimators': 1899, 'max_depth': 4, 'class_weight': None}. Best is trial 3 with value: 0.7591036088094911.\u001b[0m\n",
      "\u001b[32m[I 2022-10-01 00:00:54,233]\u001b[0m Trial 11 finished with value: 0.7467269984917043 and parameters: {'n_estimators': 704, 'max_depth': 57, 'class_weight': None}. Best is trial 3 with value: 0.7591036088094911.\u001b[0m\n",
      "\u001b[32m[I 2022-10-01 00:01:03,755]\u001b[0m Trial 12 finished with value: 0.756176856768962 and parameters: {'n_estimators': 605, 'max_depth': 15, 'class_weight': None}. Best is trial 3 with value: 0.7591036088094911.\u001b[0m\n",
      "\u001b[32m[I 2022-10-01 00:01:12,664]\u001b[0m Trial 13 finished with value: 0.760466355539885 and parameters: {'n_estimators': 527, 'max_depth': 17, 'class_weight': None}. Best is trial 13 with value: 0.760466355539885.\u001b[0m\n",
      "\u001b[32m[I 2022-10-01 00:01:19,718]\u001b[0m Trial 14 finished with value: 0.7513607170263518 and parameters: {'n_estimators': 351, 'max_depth': 19, 'class_weight': None}. Best is trial 13 with value: 0.760466355539885.\u001b[0m\n",
      "\u001b[32m[I 2022-10-01 00:01:29,985]\u001b[0m Trial 15 finished with value: 0.6969169719169719 and parameters: {'n_estimators': 711, 'max_depth': 11, 'class_weight': None}. Best is trial 13 with value: 0.760466355539885.\u001b[0m\n",
      "\u001b[32m[I 2022-10-01 00:01:40,628]\u001b[0m Trial 16 finished with value: 0.7496820010055304 and parameters: {'n_estimators': 484, 'max_depth': 22, 'class_weight': None}. Best is trial 13 with value: 0.760466355539885.\u001b[0m\n",
      "\u001b[32m[I 2022-10-01 00:01:57,855]\u001b[0m Trial 17 finished with value: 0.6654609279609279 and parameters: {'n_estimators': 1496, 'max_depth': 9, 'class_weight': None}. Best is trial 13 with value: 0.760466355539885.\u001b[0m\n",
      "\u001b[32m[I 2022-10-01 00:02:15,171]\u001b[0m Trial 18 finished with value: 0.7580788599944948 and parameters: {'n_estimators': 857, 'max_depth': 26, 'class_weight': None}. Best is trial 13 with value: 0.760466355539885.\u001b[0m\n",
      "\u001b[32m[I 2022-10-01 00:02:17,346]\u001b[0m Trial 19 finished with value: 0.7312609939080528 and parameters: {'n_estimators': 72, 'max_depth': 14, 'class_weight': None}. Best is trial 13 with value: 0.760466355539885.\u001b[0m\n",
      "\u001b[32m[I 2022-10-01 00:02:55,236]\u001b[0m Trial 20 finished with value: 0.7559010597245891 and parameters: {'n_estimators': 1570, 'max_depth': 50, 'class_weight': None}. Best is trial 13 with value: 0.760466355539885.\u001b[0m\n",
      "\u001b[32m[I 2022-10-01 00:03:12,497]\u001b[0m Trial 21 finished with value: 0.7593823359303236 and parameters: {'n_estimators': 807, 'max_depth': 26, 'class_weight': None}. Best is trial 13 with value: 0.760466355539885.\u001b[0m\n",
      "\u001b[32m[I 2022-10-01 00:03:30,207]\u001b[0m Trial 22 finished with value: 0.7435512608306726 and parameters: {'n_estimators': 835, 'max_depth': 25, 'class_weight': None}. Best is trial 13 with value: 0.760466355539885.\u001b[0m\n",
      "\u001b[32m[I 2022-10-01 00:03:40,503]\u001b[0m Trial 23 finished with value: 0.7586041409570821 and parameters: {'n_estimators': 445, 'max_depth': 35, 'class_weight': None}. Best is trial 13 with value: 0.760466355539885.\u001b[0m\n",
      "\u001b[32m[I 2022-10-01 00:03:51,620]\u001b[0m Trial 24 finished with value: 0.7643737274077831 and parameters: {'n_estimators': 643, 'max_depth': 17, 'class_weight': None}. Best is trial 24 with value: 0.7643737274077831.\u001b[0m\n",
      "\u001b[32m[I 2022-10-01 00:04:02,317]\u001b[0m Trial 25 finished with value: 0.7590782746665099 and parameters: {'n_estimators': 574, 'max_depth': 19, 'class_weight': None}. Best is trial 24 with value: 0.7643737274077831.\u001b[0m\n",
      "\u001b[32m[I 2022-10-01 00:04:09,219]\u001b[0m Trial 26 finished with value: 0.7390463999364928 and parameters: {'n_estimators': 293, 'max_depth': 28, 'class_weight': None}. Best is trial 24 with value: 0.7643737274077831.\u001b[0m\n",
      "\u001b[32m[I 2022-10-01 00:04:17,429]\u001b[0m Trial 27 finished with value: 0.5446428571428571 and parameters: {'n_estimators': 724, 'max_depth': 7, 'class_weight': None}. Best is trial 24 with value: 0.7643737274077831.\u001b[0m\n",
      "\u001b[32m[I 2022-10-01 00:04:22,102]\u001b[0m Trial 28 finished with value: 0.7561466826946702 and parameters: {'n_estimators': 160, 'max_depth': 39, 'class_weight': None}. Best is trial 24 with value: 0.7643737274077831.\u001b[0m\n"
     ]
    },
    {
     "name": "stderr",
     "output_type": "stream",
     "text": [
      "\u001b[32m[I 2022-10-01 00:04:35,342]\u001b[0m Trial 29 finished with value: 0.7631248081983376 and parameters: {'n_estimators': 552, 'max_depth': 31, 'class_weight': None}. Best is trial 24 with value: 0.7643737274077831.\u001b[0m\n",
      "\u001b[32m[I 2022-10-01 00:04:47,855]\u001b[0m Trial 30 finished with value: 0.7348693350778086 and parameters: {'n_estimators': 523, 'max_depth': 47, 'class_weight': None}. Best is trial 24 with value: 0.7643737274077831.\u001b[0m\n",
      "\u001b[32m[I 2022-10-01 00:04:56,791]\u001b[0m Trial 31 finished with value: 0.7525483013718307 and parameters: {'n_estimators': 387, 'max_depth': 32, 'class_weight': None}. Best is trial 24 with value: 0.7643737274077831.\u001b[0m\n",
      "\u001b[32m[I 2022-10-01 00:05:09,861]\u001b[0m Trial 32 finished with value: 0.7406913210628382 and parameters: {'n_estimators': 672, 'max_depth': 23, 'class_weight': None}. Best is trial 24 with value: 0.7643737274077831.\u001b[0m\n",
      "\u001b[32m[I 2022-10-01 00:05:16,066]\u001b[0m Trial 33 finished with value: 0.7297967770103992 and parameters: {'n_estimators': 255, 'max_depth': 32, 'class_weight': None}. Best is trial 24 with value: 0.7643737274077831.\u001b[0m\n",
      "\u001b[32m[I 2022-10-01 00:05:28,303]\u001b[0m Trial 34 finished with value: 0.6708932344035319 and parameters: {'n_estimators': 802, 'max_depth': 13, 'class_weight': 'balanced'}. Best is trial 24 with value: 0.7643737274077831.\u001b[0m\n",
      "\u001b[32m[I 2022-10-01 00:05:44,759]\u001b[0m Trial 35 finished with value: 0.7599884755767108 and parameters: {'n_estimators': 963, 'max_depth': 18, 'class_weight': None}. Best is trial 24 with value: 0.7643737274077831.\u001b[0m\n",
      "\u001b[32m[I 2022-10-01 00:06:01,524]\u001b[0m Trial 36 finished with value: 0.7540616246498599 and parameters: {'n_estimators': 1036, 'max_depth': 17, 'class_weight': None}. Best is trial 24 with value: 0.7643737274077831.\u001b[0m\n",
      "\u001b[32m[I 2022-10-01 00:06:13,265]\u001b[0m Trial 37 finished with value: 0.6636839895421132 and parameters: {'n_estimators': 943, 'max_depth': 9, 'class_weight': 'balanced'}. Best is trial 24 with value: 0.7643737274077831.\u001b[0m\n",
      "\u001b[32m[I 2022-10-01 00:06:18,329]\u001b[0m Trial 38 finished with value: 0.7426463925651232 and parameters: {'n_estimators': 203, 'max_depth': 29, 'class_weight': None}. Best is trial 24 with value: 0.7643737274077831.\u001b[0m\n",
      "\u001b[32m[I 2022-10-01 00:06:31,072]\u001b[0m Trial 39 finished with value: 0.711507288720911 and parameters: {'n_estimators': 580, 'max_depth': 22, 'class_weight': 'balanced'}. Best is trial 24 with value: 0.7643737274077831.\u001b[0m\n",
      "\u001b[32m[I 2022-10-01 00:06:55,393]\u001b[0m Trial 40 finished with value: 0.7650635071842502 and parameters: {'n_estimators': 1092, 'max_depth': 38, 'class_weight': None}. Best is trial 40 with value: 0.7650635071842502.\u001b[0m\n",
      "\u001b[32m[I 2022-10-01 00:07:20,512]\u001b[0m Trial 41 finished with value: 0.7602916038210156 and parameters: {'n_estimators': 1121, 'max_depth': 41, 'class_weight': None}. Best is trial 40 with value: 0.7650635071842502.\u001b[0m\n",
      "\u001b[32m[I 2022-10-01 00:07:46,029]\u001b[0m Trial 42 finished with value: 0.7550686104401275 and parameters: {'n_estimators': 1138, 'max_depth': 42, 'class_weight': None}. Best is trial 40 with value: 0.7650635071842502.\u001b[0m\n",
      "\u001b[32m[I 2022-10-01 00:08:16,200]\u001b[0m Trial 43 finished with value: 0.7523729946524064 and parameters: {'n_estimators': 1378, 'max_depth': 37, 'class_weight': None}. Best is trial 40 with value: 0.7650635071842502.\u001b[0m\n",
      "\u001b[32m[I 2022-10-01 00:08:41,758]\u001b[0m Trial 44 finished with value: 0.7466512761404401 and parameters: {'n_estimators': 1123, 'max_depth': 48, 'class_weight': None}. Best is trial 40 with value: 0.7650635071842502.\u001b[0m\n",
      "\u001b[32m[I 2022-10-01 00:09:10,740]\u001b[0m Trial 45 finished with value: 0.7268483803777922 and parameters: {'n_estimators': 1297, 'max_depth': 52, 'class_weight': 'balanced'}. Best is trial 40 with value: 0.7650635071842502.\u001b[0m\n",
      "\u001b[32m[I 2022-10-01 00:09:40,393]\u001b[0m Trial 46 finished with value: 0.7503789210445557 and parameters: {'n_estimators': 1369, 'max_depth': 44, 'class_weight': None}. Best is trial 40 with value: 0.7650635071842502.\u001b[0m\n",
      "\u001b[32m[I 2022-10-01 00:10:03,136]\u001b[0m Trial 47 finished with value: 0.7550585688820982 and parameters: {'n_estimators': 1057, 'max_depth': 39, 'class_weight': None}. Best is trial 40 with value: 0.7650635071842502.\u001b[0m\n",
      "C:\\Users\\Jack_Wolfgramm\\anaconda3\\lib\\site-packages\\sklearn\\metrics\\_classification.py:1318: UndefinedMetricWarning: Precision is ill-defined and being set to 0.0 due to no predicted samples. Use `zero_division` parameter to control this behavior.\n",
      "  _warn_prf(average, modifier, msg_start, len(result))\n",
      "C:\\Users\\Jack_Wolfgramm\\anaconda3\\lib\\site-packages\\sklearn\\metrics\\_classification.py:1318: UndefinedMetricWarning: Precision is ill-defined and being set to 0.0 due to no predicted samples. Use `zero_division` parameter to control this behavior.\n",
      "  _warn_prf(average, modifier, msg_start, len(result))\n",
      "C:\\Users\\Jack_Wolfgramm\\anaconda3\\lib\\site-packages\\sklearn\\metrics\\_classification.py:1318: UndefinedMetricWarning: Precision is ill-defined and being set to 0.0 due to no predicted samples. Use `zero_division` parameter to control this behavior.\n",
      "  _warn_prf(average, modifier, msg_start, len(result))\n",
      "C:\\Users\\Jack_Wolfgramm\\anaconda3\\lib\\site-packages\\sklearn\\metrics\\_classification.py:1318: UndefinedMetricWarning: Precision is ill-defined and being set to 0.0 due to no predicted samples. Use `zero_division` parameter to control this behavior.\n",
      "  _warn_prf(average, modifier, msg_start, len(result))\n",
      "C:\\Users\\Jack_Wolfgramm\\anaconda3\\lib\\site-packages\\sklearn\\metrics\\_classification.py:1318: UndefinedMetricWarning: Precision is ill-defined and being set to 0.0 due to no predicted samples. Use `zero_division` parameter to control this behavior.\n",
      "  _warn_prf(average, modifier, msg_start, len(result))\n",
      "C:\\Users\\Jack_Wolfgramm\\anaconda3\\lib\\site-packages\\sklearn\\metrics\\_classification.py:1318: UndefinedMetricWarning: Precision is ill-defined and being set to 0.0 due to no predicted samples. Use `zero_division` parameter to control this behavior.\n",
      "  _warn_prf(average, modifier, msg_start, len(result))\n",
      "C:\\Users\\Jack_Wolfgramm\\anaconda3\\lib\\site-packages\\sklearn\\metrics\\_classification.py:1318: UndefinedMetricWarning: Precision is ill-defined and being set to 0.0 due to no predicted samples. Use `zero_division` parameter to control this behavior.\n",
      "  _warn_prf(average, modifier, msg_start, len(result))\n",
      "C:\\Users\\Jack_Wolfgramm\\anaconda3\\lib\\site-packages\\sklearn\\metrics\\_classification.py:1318: UndefinedMetricWarning: Precision is ill-defined and being set to 0.0 due to no predicted samples. Use `zero_division` parameter to control this behavior.\n",
      "  _warn_prf(average, modifier, msg_start, len(result))\n",
      "C:\\Users\\Jack_Wolfgramm\\anaconda3\\lib\\site-packages\\sklearn\\metrics\\_classification.py:1318: UndefinedMetricWarning: Precision is ill-defined and being set to 0.0 due to no predicted samples. Use `zero_division` parameter to control this behavior.\n",
      "  _warn_prf(average, modifier, msg_start, len(result))\n",
      "C:\\Users\\Jack_Wolfgramm\\anaconda3\\lib\\site-packages\\sklearn\\metrics\\_classification.py:1318: UndefinedMetricWarning: Precision is ill-defined and being set to 0.0 due to no predicted samples. Use `zero_division` parameter to control this behavior.\n",
      "  _warn_prf(average, modifier, msg_start, len(result))\n",
      "\u001b[32m[I 2022-10-01 00:10:15,392]\u001b[0m Trial 48 finished with value: 0.0 and parameters: {'n_estimators': 1696, 'max_depth': 2, 'class_weight': None}. Best is trial 40 with value: 0.7650635071842502.\u001b[0m\n",
      "\u001b[32m[I 2022-10-01 00:10:39,952]\u001b[0m Trial 49 finished with value: 0.7570448505742624 and parameters: {'n_estimators': 1172, 'max_depth': 35, 'class_weight': None}. Best is trial 40 with value: 0.7650635071842502.\u001b[0m\n"
     ]
    }
   ],
   "source": [
    "study_forest = optuna.create_study(direction='maximize',study_name='label_generator_tuning_forest')\n",
    "study_forest.optimize(objective_forest,n_trials=50)"
   ]
  },
  {
   "cell_type": "code",
   "execution_count": 126,
   "id": "fc0c694e",
   "metadata": {},
   "outputs": [
    {
     "data": {
      "text/plain": [
       "Pipeline(steps=[('preprocessor',\n",
       "                 ColumnTransformer(transformers=[('TFIDIF_title',\n",
       "                                                  TfidfVectorizer(),\n",
       "                                                  'title_x'),\n",
       "                                                 ('TFIDIF_desc',\n",
       "                                                  TfidfVectorizer(),\n",
       "                                                  'description'),\n",
       "                                                 ('TFIDIF_comment',\n",
       "                                                  TfidfVectorizer(),\n",
       "                                                  'comment')])),\n",
       "                ('classifier',\n",
       "                 RandomForestClassifier(max_depth=38, n_estimators=1092))])"
      ]
     },
     "execution_count": 126,
     "metadata": {},
     "output_type": "execute_result"
    }
   ],
   "source": [
    "X=full_labels[['title_x','channel_label','description','comment','dislikeCount','favoriteCount','likeCount','viewCount']]\n",
    "X.reset_index(drop=True, inplace=True)\n",
    "y=full_labels['label']\n",
    "    \n",
    "preprocessor = ColumnTransformer(transformers = [('TFIDIF_title', TfidfVectorizer(),'title_x'),\n",
    "                                                     ('TFIDIF_desc', TfidfVectorizer(),'description'),\n",
    "                                                     ('TFIDIF_comment', TfidfVectorizer(),'comment')])\n",
    "    \n",
    "parameter = study_forest.best_trial.params\n",
    "    \n",
    "pipeline = Pipeline([('preprocessor', preprocessor), (\"classifier\", RandomForestClassifier(**parameter))])\n",
    "    \n",
    "pipeline.fit(X,y)"
   ]
  },
  {
   "cell_type": "code",
   "execution_count": 131,
   "id": "12ffdeba",
   "metadata": {},
   "outputs": [],
   "source": [
    "y_pred=pipeline.predict(X_large)\n",
    "y_pred_df=pd.DataFrame({'ID':labels_large['ID'],'label':y_pred})\n",
    "y_pred_df['best_label']=y_pred_df['ID'].apply(get_best_label)"
   ]
  },
  {
   "cell_type": "code",
   "execution_count": 132,
   "id": "e0033ea0",
   "metadata": {},
   "outputs": [],
   "source": [
    "# Create directories for the labeled data\n",
    "class_names = [1,0]\n",
    "\n",
    "#creating subfolders\n",
    "for i in class_names:\n",
    "    os.makedirs(os.path.join('..\\\\data\\\\interim\\\\thumbnails\\\\final_labels_training_precision\\\\', str(i)))\n",
    "    os.makedirs(os.path.join('..\\\\data\\\\interim\\\\thumbnails\\\\final_labels_validation_precision\\\\', str(i)))\n",
    "\n",
    "#moving the image files to their respective categories\n",
    "for i in class_names: # Category Name\n",
    "    for ID in list(y_pred_df[y_pred_df['best_label']==i]['ID']): # Image Id\n",
    "        if (ID in list(full_labels['ID'])):\n",
    "            if (np.random.random()>0.6):\n",
    "                get_image = os.path.join('..\\\\data\\\\raw\\\\thumbnails\\\\thumbnails\\\\', ID+'.jpg') # Path to Images \n",
    "                copy_image_to_cat = shutil.copy(get_image, '..\\\\data\\\\interim\\\\thumbnails\\\\final_labels_validation_precision\\\\'+str(i))\n",
    "            else:\n",
    "                get_image = os.path.join('..\\\\data\\\\raw\\\\thumbnails\\\\thumbnails\\\\', ID+'.jpg') # Path to Images \n",
    "                copy_image_to_cat = shutil.copy(get_image, '..\\\\data\\\\interim\\\\thumbnails\\\\final_labels_training_precision\\\\'+str(i))\n",
    "        else:\n",
    "            get_image = os.path.join('..\\\\data\\\\raw\\\\thumbnails\\\\thumbnails\\\\', ID+'.jpg') # Path to Images \n",
    "            copy_image_to_cat = shutil.copy(get_image, '..\\\\data\\\\interim\\\\thumbnails\\\\final_labels_training_precision\\\\'+str(i))"
   ]
  },
  {
   "cell_type": "code",
   "execution_count": 133,
   "id": "27c54d2e",
   "metadata": {},
   "outputs": [
    {
     "name": "stdout",
     "output_type": "stream",
     "text": [
      "Found 8684 files belonging to 2 classes.\n",
      "Found 303 files belonging to 2 classes.\n"
     ]
    }
   ],
   "source": [
    "train_ds_final_precision=image_dataset_from_directory(\n",
    "    '..\\\\data\\\\interim\\\\thumbnails\\\\final_labels_training_precision\\\\',\n",
    "    labels='inferred',\n",
    "    label_mode='binary',\n",
    "    color_mode='rgb',\n",
    "    batch_size=32,\n",
    "    image_size=(128, 128),\n",
    "    shuffle=True,\n",
    "    seed=42069,\n",
    "    interpolation='bilinear',\n",
    "    follow_links=False,\n",
    "    crop_to_aspect_ratio=False,\n",
    ")\n",
    "valid_ds_final_precision=image_dataset_from_directory(\n",
    "    '..\\\\data\\\\interim\\\\thumbnails\\\\final_labels_validation_precision\\\\',\n",
    "    labels='inferred',\n",
    "    label_mode='binary',\n",
    "    color_mode='rgb',\n",
    "    batch_size=32,\n",
    "    image_size=(128, 128),\n",
    "    shuffle=True,\n",
    "    seed=42069,\n",
    "    interpolation='bilinear',\n",
    "    follow_links=False,\n",
    "    crop_to_aspect_ratio=False,\n",
    ")"
   ]
  },
  {
   "cell_type": "code",
   "execution_count": 135,
   "id": "2dfb550a",
   "metadata": {},
   "outputs": [
    {
     "name": "stdout",
     "output_type": "stream",
     "text": [
      "Epoch 1/5\n",
      "272/272 [==============================] - 1830s 7s/step - loss: 0.5432 - get_f1: 0.2921 - val_loss: 1.0816 - val_get_f1: 0.1783\n",
      "Epoch 2/5\n",
      "272/272 [==============================] - 1703s 6s/step - loss: 0.2434 - get_f1: 0.4260 - val_loss: 1.1181 - val_get_f1: 0.2598\n",
      "Epoch 3/5\n",
      "272/272 [==============================] - 1703s 6s/step - loss: 0.2168 - get_f1: 0.5830 - val_loss: 1.2729 - val_get_f1: 0.2912\n",
      "Epoch 4/5\n",
      "272/272 [==============================] - 1699s 6s/step - loss: 0.1904 - get_f1: 0.6064 - val_loss: 1.1954 - val_get_f1: 0.3212\n",
      "Epoch 5/5\n",
      "272/272 [==============================] - 1700s 6s/step - loss: 0.1842 - get_f1: 0.6536 - val_loss: 1.4655 - val_get_f1: 0.3572\n"
     ]
    }
   ],
   "source": [
    "new_input = Input(shape=(128, 128, 3))\n",
    "base_model_trimmer = VGG19(include_top=False, input_tensor=new_input,weights='imagenet')\n",
    "\n",
    "x = base_model_trimmer.output\n",
    "x = GlobalAveragePooling2D()(x)\n",
    "# let's add a fully-connected layer\n",
    "x = Dropout(0.2)(x)\n",
    "x = Dense(64, activation='relu')(x)\n",
    "x = Dropout(0.4)(x)\n",
    "# and a logistic layer -- let's say we have 2 classes\n",
    "predictions_trimmed = Dense(1, activation='sigmoid')(x)\n",
    "\n",
    "# first: train only the top layers (which were randomly initialized)\n",
    "# i.e. freeze all convolutional InceptionV3 layers\n",
    "for layer in base_model_trimmer.layers:\n",
    "    layer.trainable = False\n",
    "\n",
    "model_trimmed = CustomModel(new_input, predictions_trimmed)    \n",
    "\n",
    "# compile the model (should be done *after* setting layers to non-trainable)\n",
    "model_trimmed.compile(optimizer=keras.optimizers.Adam(),\n",
    "              loss=keras.losses.BinaryCrossentropy(from_logits=False),\n",
    "              metrics=[get_f1],run_eagerly=True)\n",
    "\n",
    "mystery=model_trimmed.fit(train_ds_final_precision, epochs=5, validation_data=valid_ds_final_precision)"
   ]
  },
  {
   "cell_type": "code",
   "execution_count": 134,
   "id": "fa2c0a7c",
   "metadata": {},
   "outputs": [],
   "source": [
    "alpha=0.875"
   ]
  },
  {
   "cell_type": "markdown",
   "id": "09527cc9",
   "metadata": {},
   "source": [
    "So overall, it seems that expanding the dataset with new labels will not work with the methods that I am currently able to conjure up. On the other hand, dealing with noisy labels with the trimmed loss seems to work with the smaller dataset! "
   ]
  },
  {
   "cell_type": "code",
   "execution_count": null,
   "id": "b6503d8f",
   "metadata": {},
   "outputs": [],
   "source": []
  }
 ],
 "metadata": {
  "kernelspec": {
   "display_name": "Python 3 (ipykernel)",
   "language": "python",
   "name": "python3"
  },
  "language_info": {
   "codemirror_mode": {
    "name": "ipython",
    "version": 3
   },
   "file_extension": ".py",
   "mimetype": "text/x-python",
   "name": "python",
   "nbconvert_exporter": "python",
   "pygments_lexer": "ipython3",
   "version": "3.9.12"
  }
 },
 "nbformat": 4,
 "nbformat_minor": 5
}
